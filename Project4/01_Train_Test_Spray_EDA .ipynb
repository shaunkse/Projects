{
 "cells": [
  {
   "cell_type": "markdown",
   "metadata": {},
   "source": [
    "# Importing libraries and reading CSV files"
   ]
  },
  {
   "cell_type": "code",
   "execution_count": 1,
   "metadata": {},
   "outputs": [],
   "source": [
    "#conda install -c conda-forge pandas-profiling"
   ]
  },
  {
   "cell_type": "code",
   "execution_count": 2,
   "metadata": {},
   "outputs": [],
   "source": [
    "import pandas as pd\n",
    "import pandas_profiling as pp\n",
    "import numpy as np\n",
    "import matplotlib.pyplot as plt\n",
    "import seaborn as sns; sns.set()\n"
   ]
  },
  {
   "cell_type": "code",
   "execution_count": 3,
   "metadata": {},
   "outputs": [],
   "source": [
    "train = pd.read_csv ('./Data/train.csv')\n",
    "test = pd.read_csv ('./Data/test.csv')\n",
    "spray = pd.read_csv ('./Data/spray.csv')"
   ]
  },
  {
   "cell_type": "markdown",
   "metadata": {},
   "source": [
    "| Feature                | File  | Description                                                                                                 |\n",
    "|------------------------|-------|-------------------------------------------------------------------------------------------------------------|\n",
    "| Date                   | Train | date that the WNV test is performed                                                                         |\n",
    "| Address                | Train | approximate address of the location of trap\\. This is used to send to the GeoCoder\\.                        |\n",
    "| Species                | Train | the species of mosquitos                                                                                    |\n",
    "| Block                  | Train | block number of address                                                                                     |\n",
    "| Street                 | Train | street name                                                                                                 |\n",
    "| Trap                   | Train | Id of the trap                                                                                              |\n",
    "| AddressNumberAndStreet | Train | approximate address returned from GeoCoder                                                                  |\n",
    "| Latitude, Longitude    | Train | Latitude and Longitude returned from GeoCoder                                                               |\n",
    "| AddressAccuracy        | Train | accuracy returned from GeoCoder                                                                             |\n",
    "| NumMosquitos           | Train | number of mosquitoes caught in this trap                                                                    |\n",
    "| WnvPresent             | Train | whether West Nile Virus was present in these mosquitos\\. 1 means WNV is present, and 0 means not present\\.  |\n",
    "\n"
   ]
  },
  {
   "cell_type": "markdown",
   "metadata": {},
   "source": [
    "# Train Dataset"
   ]
  },
  {
   "cell_type": "code",
   "execution_count": 4,
   "metadata": {},
   "outputs": [
    {
     "data": {
      "text/plain": [
       "Index(['Date', 'Address', 'Species', 'Block', 'Street', 'Trap',\n",
       "       'AddressNumberAndStreet', 'Latitude', 'Longitude', 'AddressAccuracy',\n",
       "       'NumMosquitos', 'WnvPresent'],\n",
       "      dtype='object')"
      ]
     },
     "execution_count": 4,
     "metadata": {},
     "output_type": "execute_result"
    }
   ],
   "source": [
    "train.columns"
   ]
  },
  {
   "cell_type": "code",
   "execution_count": 5,
   "metadata": {},
   "outputs": [],
   "source": [
    "train.columns = train.columns.map(lambda x: x.lower())"
   ]
  },
  {
   "cell_type": "code",
   "execution_count": 6,
   "metadata": {},
   "outputs": [
    {
     "data": {
      "text/plain": [
       "Index(['date', 'address', 'species', 'block', 'street', 'trap',\n",
       "       'addressnumberandstreet', 'latitude', 'longitude', 'addressaccuracy',\n",
       "       'nummosquitos', 'wnvpresent'],\n",
       "      dtype='object')"
      ]
     },
     "execution_count": 6,
     "metadata": {},
     "output_type": "execute_result"
    }
   ],
   "source": [
    "train.columns"
   ]
  },
  {
   "cell_type": "code",
   "execution_count": 7,
   "metadata": {},
   "outputs": [
    {
     "data": {
      "text/plain": [
       "(10506, 12)"
      ]
     },
     "execution_count": 7,
     "metadata": {},
     "output_type": "execute_result"
    }
   ],
   "source": [
    "train.shape"
   ]
  },
  {
   "cell_type": "code",
   "execution_count": 8,
   "metadata": {},
   "outputs": [
    {
     "data": {
      "text/plain": [
       "date                       object\n",
       "address                    object\n",
       "species                    object\n",
       "block                       int64\n",
       "street                     object\n",
       "trap                       object\n",
       "addressnumberandstreet     object\n",
       "latitude                  float64\n",
       "longitude                 float64\n",
       "addressaccuracy             int64\n",
       "nummosquitos                int64\n",
       "wnvpresent                  int64\n",
       "dtype: object"
      ]
     },
     "execution_count": 8,
     "metadata": {},
     "output_type": "execute_result"
    }
   ],
   "source": [
    "train.dtypes"
   ]
  },
  {
   "cell_type": "code",
   "execution_count": 9,
   "metadata": {},
   "outputs": [],
   "source": [
    "#pp.ProfileReport(train)"
   ]
  },
  {
   "cell_type": "code",
   "execution_count": 10,
   "metadata": {},
   "outputs": [
    {
     "data": {
      "text/plain": [
       "(813, 12)"
      ]
     },
     "execution_count": 10,
     "metadata": {},
     "output_type": "execute_result"
    }
   ],
   "source": [
    "# duplicate rows \n",
    "train[train.duplicated()].shape"
   ]
  },
  {
   "cell_type": "code",
   "execution_count": 11,
   "metadata": {},
   "outputs": [
    {
     "data": {
      "text/plain": [
       "Int64Index([   99,   295,   351,   353,   512,   531,   548,   587,   588,\n",
       "              589,\n",
       "            ...\n",
       "             9902,  9969,  9975,  9976,  9992, 10013, 10102, 10124, 10262,\n",
       "            10392],\n",
       "           dtype='int64', length=813)"
      ]
     },
     "execution_count": 11,
     "metadata": {},
     "output_type": "execute_result"
    }
   ],
   "source": [
    "train[train.duplicated()].index"
   ]
  },
  {
   "cell_type": "markdown",
   "metadata": {},
   "source": [
    "### Date"
   ]
  },
  {
   "cell_type": "code",
   "execution_count": 12,
   "metadata": {},
   "outputs": [
    {
     "data": {
      "text/plain": [
       "0"
      ]
     },
     "execution_count": 12,
     "metadata": {},
     "output_type": "execute_result"
    }
   ],
   "source": [
    "train.date.isnull().sum()"
   ]
  },
  {
   "cell_type": "code",
   "execution_count": 13,
   "metadata": {},
   "outputs": [
    {
     "data": {
      "text/plain": [
       "0        2007-05-29\n",
       "1        2007-05-29\n",
       "2        2007-05-29\n",
       "3        2007-05-29\n",
       "4        2007-05-29\n",
       "            ...    \n",
       "10501    2013-09-26\n",
       "10502    2013-09-26\n",
       "10503    2013-09-26\n",
       "10504    2013-09-26\n",
       "10505    2013-09-26\n",
       "Name: date, Length: 10506, dtype: object"
      ]
     },
     "execution_count": 13,
     "metadata": {},
     "output_type": "execute_result"
    }
   ],
   "source": [
    "train['date']"
   ]
  },
  {
   "cell_type": "code",
   "execution_count": 14,
   "metadata": {},
   "outputs": [
    {
     "data": {
      "text/plain": [
       "0        [2007, 05, 29]\n",
       "1        [2007, 05, 29]\n",
       "2        [2007, 05, 29]\n",
       "3        [2007, 05, 29]\n",
       "4        [2007, 05, 29]\n",
       "              ...      \n",
       "10501    [2013, 09, 26]\n",
       "10502    [2013, 09, 26]\n",
       "10503    [2013, 09, 26]\n",
       "10504    [2013, 09, 26]\n",
       "10505    [2013, 09, 26]\n",
       "Name: date_split, Length: 10506, dtype: object"
      ]
     },
     "execution_count": 14,
     "metadata": {},
     "output_type": "execute_result"
    }
   ],
   "source": [
    "train['date_split'] = train['date'].str.split('-')\n",
    "train['date_split']"
   ]
  },
  {
   "cell_type": "code",
   "execution_count": 15,
   "metadata": {},
   "outputs": [
    {
     "data": {
      "text/plain": [
       "0        2007\n",
       "1        2007\n",
       "2        2007\n",
       "3        2007\n",
       "4        2007\n",
       "         ... \n",
       "10501    2013\n",
       "10502    2013\n",
       "10503    2013\n",
       "10504    2013\n",
       "10505    2013\n",
       "Name: year, Length: 10506, dtype: object"
      ]
     },
     "execution_count": 15,
     "metadata": {},
     "output_type": "execute_result"
    }
   ],
   "source": [
    "train['year'] = [y[0] for y in train['date_split']]\n",
    "train['year']"
   ]
  },
  {
   "cell_type": "code",
   "execution_count": 16,
   "metadata": {},
   "outputs": [
    {
     "data": {
      "text/plain": [
       "0        05\n",
       "1        05\n",
       "2        05\n",
       "3        05\n",
       "4        05\n",
       "         ..\n",
       "10501    09\n",
       "10502    09\n",
       "10503    09\n",
       "10504    09\n",
       "10505    09\n",
       "Name: month, Length: 10506, dtype: object"
      ]
     },
     "execution_count": 16,
     "metadata": {},
     "output_type": "execute_result"
    }
   ],
   "source": [
    "train['month'] = [y[1] for y in train['date_split']]\n",
    "train['month']"
   ]
  },
  {
   "cell_type": "code",
   "execution_count": 17,
   "metadata": {},
   "outputs": [
    {
     "data": {
      "text/plain": [
       "0        29\n",
       "1        29\n",
       "2        29\n",
       "3        29\n",
       "4        29\n",
       "         ..\n",
       "10501    26\n",
       "10502    26\n",
       "10503    26\n",
       "10504    26\n",
       "10505    26\n",
       "Name: day, Length: 10506, dtype: object"
      ]
     },
     "execution_count": 17,
     "metadata": {},
     "output_type": "execute_result"
    }
   ],
   "source": [
    "train['day'] = [y[2] for y in train['date_split']]\n",
    "train['day']"
   ]
  },
  {
   "cell_type": "code",
   "execution_count": 18,
   "metadata": {},
   "outputs": [],
   "source": [
    "train.drop(columns = 'date_split',inplace = True)"
   ]
  },
  {
   "cell_type": "code",
   "execution_count": 19,
   "metadata": {},
   "outputs": [
    {
     "data": {
      "text/plain": [
       "Index(['date', 'address', 'species', 'block', 'street', 'trap',\n",
       "       'addressnumberandstreet', 'latitude', 'longitude', 'addressaccuracy',\n",
       "       'nummosquitos', 'wnvpresent', 'year', 'month', 'day'],\n",
       "      dtype='object')"
      ]
     },
     "execution_count": 19,
     "metadata": {},
     "output_type": "execute_result"
    }
   ],
   "source": [
    "train.columns"
   ]
  },
  {
   "cell_type": "markdown",
   "metadata": {},
   "source": [
    "### Species"
   ]
  },
  {
   "cell_type": "code",
   "execution_count": 20,
   "metadata": {},
   "outputs": [
    {
     "data": {
      "text/plain": [
       "0"
      ]
     },
     "execution_count": 20,
     "metadata": {},
     "output_type": "execute_result"
    }
   ],
   "source": [
    "train.species.isnull().sum()"
   ]
  },
  {
   "cell_type": "code",
   "execution_count": 21,
   "metadata": {},
   "outputs": [
    {
     "data": {
      "text/plain": [
       "CULEX PIPIENS/RESTUANS    4752\n",
       "CULEX RESTUANS            2740\n",
       "CULEX PIPIENS             2699\n",
       "CULEX TERRITANS            222\n",
       "CULEX SALINARIUS            86\n",
       "CULEX TARSALIS               6\n",
       "CULEX ERRATICUS              1\n",
       "Name: species, dtype: int64"
      ]
     },
     "execution_count": 21,
     "metadata": {},
     "output_type": "execute_result"
    }
   ],
   "source": [
    "train['species'].value_counts()"
   ]
  },
  {
   "cell_type": "code",
   "execution_count": 22,
   "metadata": {},
   "outputs": [
    {
     "data": {
      "text/plain": [
       "species                 wnvpresent\n",
       "CULEX ERRATICUS         0                1\n",
       "CULEX PIPIENS           0             2459\n",
       "                        1              240\n",
       "CULEX PIPIENS/RESTUANS  0             4490\n",
       "                        1              262\n",
       "CULEX RESTUANS          0             2691\n",
       "                        1               49\n",
       "CULEX SALINARIUS        0               86\n",
       "CULEX TARSALIS          0                6\n",
       "CULEX TERRITANS         0              222\n",
       "Name: wnvpresent, dtype: int64"
      ]
     },
     "execution_count": 22,
     "metadata": {},
     "output_type": "execute_result"
    }
   ],
   "source": [
    "train.groupby(by=['species'])['wnvpresent'].value_counts()"
   ]
  },
  {
   "cell_type": "markdown",
   "metadata": {},
   "source": [
    "Since there are only 3 species with high value count in wnvpresent, we will merge the minority spicies into 'others'"
   ]
  },
  {
   "cell_type": "code",
   "execution_count": 23,
   "metadata": {},
   "outputs": [],
   "source": [
    "train.species = train.species.map({'CULEX PIPIENS/RESTUANS': 'PIPIENS/RESTUANS',\n",
    "                                   'CULEX RESTUANS': 'RESTUANS',\n",
    "                                   'CULEX PIPIENS': 'PIPIENS',\n",
    "                                   'CULEX TERRITANS': 'OTHER', \n",
    "                                   'CULEX SALINARIUS': 'OTHER',\n",
    "                                   'CULEX TARSALIS': 'OTHER',\n",
    "                                   'CULEX ERRATICUS': 'OTHER'})"
   ]
  },
  {
   "cell_type": "code",
   "execution_count": 24,
   "metadata": {},
   "outputs": [
    {
     "data": {
      "text/plain": [
       "PIPIENS/RESTUANS    4752\n",
       "RESTUANS            2740\n",
       "PIPIENS             2699\n",
       "OTHER                315\n",
       "Name: species, dtype: int64"
      ]
     },
     "execution_count": 24,
     "metadata": {},
     "output_type": "execute_result"
    }
   ],
   "source": [
    "train['species'].value_counts()"
   ]
  },
  {
   "cell_type": "markdown",
   "metadata": {},
   "source": [
    "### Block"
   ]
  },
  {
   "cell_type": "code",
   "execution_count": 25,
   "metadata": {},
   "outputs": [
    {
     "data": {
      "text/plain": [
       "0"
      ]
     },
     "execution_count": 25,
     "metadata": {},
     "output_type": "execute_result"
    }
   ],
   "source": [
    "train.block.isnull().sum()"
   ]
  },
  {
   "cell_type": "markdown",
   "metadata": {},
   "source": [
    "Decided to drop this column as it does not seem to be useful and informtive as it is well represented by latitude and longitude "
   ]
  },
  {
   "cell_type": "code",
   "execution_count": 26,
   "metadata": {},
   "outputs": [],
   "source": [
    "train.drop(columns = 'block',inplace = True)"
   ]
  },
  {
   "cell_type": "markdown",
   "metadata": {},
   "source": [
    "### Address"
   ]
  },
  {
   "cell_type": "code",
   "execution_count": 27,
   "metadata": {},
   "outputs": [
    {
     "data": {
      "text/plain": [
       "0"
      ]
     },
     "execution_count": 27,
     "metadata": {},
     "output_type": "execute_result"
    }
   ],
   "source": [
    "train.address.isnull().sum()"
   ]
  },
  {
   "cell_type": "markdown",
   "metadata": {},
   "source": [
    "Decided to drop this column as it does not seem to be useful and informtive as it is well represented by latitude and longitude "
   ]
  },
  {
   "cell_type": "code",
   "execution_count": 28,
   "metadata": {},
   "outputs": [],
   "source": [
    "train.drop(columns = 'address',inplace = True)"
   ]
  },
  {
   "cell_type": "markdown",
   "metadata": {},
   "source": [
    "### Address Number and Street"
   ]
  },
  {
   "cell_type": "code",
   "execution_count": 29,
   "metadata": {},
   "outputs": [
    {
     "data": {
      "text/plain": [
       "0"
      ]
     },
     "execution_count": 29,
     "metadata": {},
     "output_type": "execute_result"
    }
   ],
   "source": [
    "train.addressnumberandstreet.isnull().sum()"
   ]
  },
  {
   "cell_type": "markdown",
   "metadata": {},
   "source": [
    "Decided to drop this column as it does not seem to be useful and informtive as it is well represented by latitude and longitude "
   ]
  },
  {
   "cell_type": "code",
   "execution_count": 30,
   "metadata": {},
   "outputs": [],
   "source": [
    "train.drop(columns = 'addressnumberandstreet',inplace = True)"
   ]
  },
  {
   "cell_type": "code",
   "execution_count": 31,
   "metadata": {},
   "outputs": [],
   "source": [
    "train.drop(columns = 'street',inplace = True)"
   ]
  },
  {
   "cell_type": "markdown",
   "metadata": {},
   "source": [
    "### Address Accuracy"
   ]
  },
  {
   "cell_type": "code",
   "execution_count": 32,
   "metadata": {},
   "outputs": [
    {
     "data": {
      "text/plain": [
       "0"
      ]
     },
     "execution_count": 32,
     "metadata": {},
     "output_type": "execute_result"
    }
   ],
   "source": [
    "train.addressaccuracy.isnull().sum()"
   ]
  },
  {
   "cell_type": "code",
   "execution_count": 33,
   "metadata": {},
   "outputs": [
    {
     "data": {
      "text/plain": [
       "8    4628\n",
       "9    3980\n",
       "5    1807\n",
       "3      91\n",
       "Name: addressaccuracy, dtype: int64"
      ]
     },
     "execution_count": 33,
     "metadata": {},
     "output_type": "execute_result"
    }
   ],
   "source": [
    "train.addressaccuracy.value_counts()"
   ]
  },
  {
   "cell_type": "code",
   "execution_count": 34,
   "metadata": {},
   "outputs": [
    {
     "data": {
      "image/png": "[encoded data removed]",
      "text/plain": [
       "<Figure size 432x288 with 1 Axes>"
      ]
     },
     "metadata": {
      "needs_background": "light"
     },
     "output_type": "display_data"
    }
   ],
   "source": [
    "train.addressaccuracy.hist()\n",
    "plt.title('Distribution of Address Accuracy Score')\n",
    "plt.xlabel('Address Accuracy Score')\n",
    "plt.ylabel('Count')\n",
    "plt.show()"
   ]
  },
  {
   "cell_type": "markdown",
   "metadata": {},
   "source": [
    "Decided to drop this column as it does not seem to be useful and informtive as it is well represented by latitude and longitude "
   ]
  },
  {
   "cell_type": "code",
   "execution_count": 35,
   "metadata": {},
   "outputs": [],
   "source": [
    "train.drop(columns = 'addressaccuracy',inplace = True)"
   ]
  },
  {
   "cell_type": "code",
   "execution_count": 36,
   "metadata": {},
   "outputs": [
    {
     "data": {
      "text/plain": [
       "Index(['date', 'species', 'trap', 'latitude', 'longitude', 'nummosquitos',\n",
       "       'wnvpresent', 'year', 'month', 'day'],\n",
       "      dtype='object')"
      ]
     },
     "execution_count": 36,
     "metadata": {},
     "output_type": "execute_result"
    }
   ],
   "source": [
    "train.columns"
   ]
  },
  {
   "cell_type": "markdown",
   "metadata": {},
   "source": [
    "### No. of Mosquitos"
   ]
  },
  {
   "cell_type": "code",
   "execution_count": 37,
   "metadata": {},
   "outputs": [
    {
     "data": {
      "text/plain": [
       "0"
      ]
     },
     "execution_count": 37,
     "metadata": {},
     "output_type": "execute_result"
    }
   ],
   "source": [
    "train.nummosquitos.isnull().sum()"
   ]
  },
  {
   "cell_type": "code",
   "execution_count": 38,
   "metadata": {},
   "outputs": [
    {
     "data": {
      "text/plain": [
       "array([ 1,  4,  2,  3,  5,  9,  7, 10,  8,  6, 19, 20, 25, 16, 11, 12, 28,\n",
       "       18, 50, 35, 14, 22, 21, 37, 27, 13, 39, 29, 15, 17, 34, 26, 32, 47,\n",
       "       44, 23, 46, 48, 42, 33, 45, 24, 41, 38, 40, 36, 43, 49, 30, 31])"
      ]
     },
     "execution_count": 38,
     "metadata": {},
     "output_type": "execute_result"
    }
   ],
   "source": [
    "train.nummosquitos.unique()"
   ]
  },
  {
   "cell_type": "code",
   "execution_count": 39,
   "metadata": {},
   "outputs": [
    {
     "data": {
      "image/png": "[encoded data removed]",
      "text/plain": [
       "<Figure size 432x288 with 1 Axes>"
      ]
     },
     "metadata": {
      "needs_background": "light"
     },
     "output_type": "display_data"
    }
   ],
   "source": [
    "train.nummosquitos.hist()\n",
    "plt.title('Distribution of Number of Mosquitos')\n",
    "plt.xlabel('Mosquitos per trap instance (Max 50)')\n",
    "plt.ylabel('Count')\n",
    "plt.show()"
   ]
  },
  {
   "cell_type": "code",
   "execution_count": 40,
   "metadata": {},
   "outputs": [
    {
     "data": {
      "text/plain": [
       "Index(['date', 'species', 'trap', 'latitude', 'longitude', 'nummosquitos',\n",
       "       'wnvpresent', 'year', 'month', 'day'],\n",
       "      dtype='object')"
      ]
     },
     "execution_count": 40,
     "metadata": {},
     "output_type": "execute_result"
    }
   ],
   "source": [
    "train.columns"
   ]
  },
  {
   "cell_type": "code",
   "execution_count": 41,
   "metadata": {},
   "outputs": [],
   "source": [
    "#merge total mosquito with train data\n",
    "train = pd.merge(train, train.groupby(['date', 'trap', 'species','wnvpresent'], as_index=False)['nummosquitos'].sum(), \n",
    "                    how='left', on=['date', 'trap', 'species','wnvpresent'])\n",
    "\n",
    "#rename column wich include total mosquito\n",
    "#train.columns = ['date', 'species', 'trap','latitude', 'longitude','nummosquitos', 'wnvpresent', 'year', 'month', 'day', 'tot_mos_species']"
   ]
  },
  {
   "cell_type": "code",
   "execution_count": 42,
   "metadata": {},
   "outputs": [],
   "source": [
    "train.columns = ['date', 'species', 'trap','latitude', 'longitude','nummosquitos', 'wnvpresent', 'year', 'month', 'day', 'tot_mos_species']"
   ]
  },
  {
   "cell_type": "code",
   "execution_count": 43,
   "metadata": {},
   "outputs": [
    {
     "data": {
      "text/plain": [
       "Index(['date', 'species', 'trap', 'latitude', 'longitude', 'nummosquitos',\n",
       "       'wnvpresent', 'year', 'month', 'day', 'tot_mos_species'],\n",
       "      dtype='object')"
      ]
     },
     "execution_count": 43,
     "metadata": {},
     "output_type": "execute_result"
    }
   ],
   "source": [
    "train.columns"
   ]
  },
  {
   "cell_type": "code",
   "execution_count": 44,
   "metadata": {},
   "outputs": [
    {
     "data": {
      "text/plain": [
       "(10506, 11)"
      ]
     },
     "execution_count": 44,
     "metadata": {},
     "output_type": "execute_result"
    }
   ],
   "source": [
    "train.shape"
   ]
  },
  {
   "cell_type": "code",
   "execution_count": 45,
   "metadata": {},
   "outputs": [],
   "source": [
    "# dropping duplicated rows and only keeping the rows with the sum of mosquitoes. \n",
    "train = train[train.duplicated(subset=['date', 'trap', 'species','tot_mos_species','wnvpresent']) == False]"
   ]
  },
  {
   "cell_type": "code",
   "execution_count": 46,
   "metadata": {},
   "outputs": [
    {
     "data": {
      "text/plain": [
       "(8596, 11)"
      ]
     },
     "execution_count": 46,
     "metadata": {},
     "output_type": "execute_result"
    }
   ],
   "source": [
    "train.shape"
   ]
  },
  {
   "cell_type": "markdown",
   "metadata": {},
   "source": [
    "### Trap"
   ]
  },
  {
   "cell_type": "code",
   "execution_count": 47,
   "metadata": {},
   "outputs": [
    {
     "data": {
      "text/plain": [
       "0"
      ]
     },
     "execution_count": 47,
     "metadata": {},
     "output_type": "execute_result"
    }
   ],
   "source": [
    "train.trap.isnull().sum()"
   ]
  },
  {
   "cell_type": "code",
   "execution_count": 48,
   "metadata": {},
   "outputs": [
    {
     "data": {
      "text/plain": [
       "T900     181\n",
       "T115     156\n",
       "T135     153\n",
       "T002     150\n",
       "T151     144\n",
       "        ... \n",
       "T078       6\n",
       "T076       5\n",
       "T094B      5\n",
       "T237       3\n",
       "T040       2\n",
       "Name: trap, Length: 136, dtype: int64"
      ]
     },
     "execution_count": 48,
     "metadata": {},
     "output_type": "execute_result"
    }
   ],
   "source": [
    "train.trap.value_counts()"
   ]
  },
  {
   "cell_type": "code",
   "execution_count": 49,
   "metadata": {},
   "outputs": [
    {
     "data": {
      "text/plain": [
       "array(['T002', 'T007', 'T015', 'T045', 'T046', 'T048', 'T049', 'T050',\n",
       "       'T054', 'T086', 'T091', 'T094', 'T096', 'T129', 'T143', 'T148',\n",
       "       'T153', 'T159', 'T009', 'T011', 'T016', 'T019', 'T025', 'T028',\n",
       "       'T031', 'T033', 'T089', 'T090', 'T092', 'T135', 'T141', 'T142',\n",
       "       'T145', 'T146', 'T147', 'T149', 'T150', 'T151', 'T152', 'T154',\n",
       "       'T158', 'T162', 'T218', 'T220', 'T001', 'T003', 'T006', 'T008',\n",
       "       'T012', 'T034', 'T037', 'T040', 'T043', 'T047', 'T051', 'T085',\n",
       "       'T088', 'T161', 'T219', 'T013', 'T014', 'T018', 'T030', 'T084',\n",
       "       'T144', 'T160', 'T005', 'T017', 'T044', 'T095', 'T004', 'T035',\n",
       "       'T036', 'T039', 'T060', 'T061', 'T062', 'T065', 'T066', 'T067',\n",
       "       'T069', 'T070', 'T071', 'T073', 'T074', 'T075', 'T076', 'T077',\n",
       "       'T079', 'T080', 'T081', 'T082', 'T083', 'T114', 'T155', 'T063',\n",
       "       'T115', 'T138', 'T200', 'T206', 'T209', 'T212', 'T215', 'T107',\n",
       "       'T128', 'T072', 'T078', 'T097', 'T099', 'T100', 'T102', 'T103',\n",
       "       'T027', 'T156', 'T157', 'T221', 'T900', 'T903', 'T222', 'T223',\n",
       "       'T225', 'T227', 'T224', 'T226', 'T229', 'T230', 'T228', 'T232',\n",
       "       'T231', 'T235', 'T233', 'T236', 'T237', 'T238', 'T094B', 'T054C'],\n",
       "      dtype=object)"
      ]
     },
     "execution_count": 49,
     "metadata": {},
     "output_type": "execute_result"
    }
   ],
   "source": [
    "train.trap.unique()"
   ]
  },
  {
   "cell_type": "code",
   "execution_count": 50,
   "metadata": {},
   "outputs": [],
   "source": [
    "#convert all satellite trap to have the same trap name as parent trap\n",
    "trap_rename = lambda x: x[0:4] if len(x)==5 else x\n",
    "train['trap'] = train['trap'].apply(trap_rename)"
   ]
  },
  {
   "cell_type": "code",
   "execution_count": 51,
   "metadata": {},
   "outputs": [
    {
     "data": {
      "text/plain": [
       "array(['T002', 'T007', 'T015', 'T045', 'T046', 'T048', 'T049', 'T050',\n",
       "       'T054', 'T086', 'T091', 'T094', 'T096', 'T129', 'T143', 'T148',\n",
       "       'T153', 'T159', 'T009', 'T011', 'T016', 'T019', 'T025', 'T028',\n",
       "       'T031', 'T033', 'T089', 'T090', 'T092', 'T135', 'T141', 'T142',\n",
       "       'T145', 'T146', 'T147', 'T149', 'T150', 'T151', 'T152', 'T154',\n",
       "       'T158', 'T162', 'T218', 'T220', 'T001', 'T003', 'T006', 'T008',\n",
       "       'T012', 'T034', 'T037', 'T040', 'T043', 'T047', 'T051', 'T085',\n",
       "       'T088', 'T161', 'T219', 'T013', 'T014', 'T018', 'T030', 'T084',\n",
       "       'T144', 'T160', 'T005', 'T017', 'T044', 'T095', 'T004', 'T035',\n",
       "       'T036', 'T039', 'T060', 'T061', 'T062', 'T065', 'T066', 'T067',\n",
       "       'T069', 'T070', 'T071', 'T073', 'T074', 'T075', 'T076', 'T077',\n",
       "       'T079', 'T080', 'T081', 'T082', 'T083', 'T114', 'T155', 'T063',\n",
       "       'T115', 'T138', 'T200', 'T206', 'T209', 'T212', 'T215', 'T107',\n",
       "       'T128', 'T072', 'T078', 'T097', 'T099', 'T100', 'T102', 'T103',\n",
       "       'T027', 'T156', 'T157', 'T221', 'T900', 'T903', 'T222', 'T223',\n",
       "       'T225', 'T227', 'T224', 'T226', 'T229', 'T230', 'T228', 'T232',\n",
       "       'T231', 'T235', 'T233', 'T236', 'T237', 'T238'], dtype=object)"
      ]
     },
     "execution_count": 51,
     "metadata": {},
     "output_type": "execute_result"
    }
   ],
   "source": [
    "train.trap.unique()"
   ]
  },
  {
   "cell_type": "markdown",
   "metadata": {},
   "source": [
    "### Latitude"
   ]
  },
  {
   "cell_type": "code",
   "execution_count": 52,
   "metadata": {},
   "outputs": [
    {
     "data": {
      "text/plain": [
       "0"
      ]
     },
     "execution_count": 52,
     "metadata": {},
     "output_type": "execute_result"
    }
   ],
   "source": [
    "train.latitude.isnull().sum()"
   ]
  },
  {
   "cell_type": "code",
   "execution_count": 53,
   "metadata": {},
   "outputs": [
    {
     "data": {
      "text/plain": [
       "array([41.95469 , 41.994991, 41.974089, 41.9216  , 41.891118, 41.867108,\n",
       "       41.896282, 41.919343, 41.921965, 41.688324, 41.862292, 41.720848,\n",
       "       41.731922, 41.891126, 41.999129, 42.01743 , 41.907645, 41.732984,\n",
       "       41.981964, 41.944869, 42.011601, 41.94983 , 41.979243, 41.986921,\n",
       "       41.801498, 41.906638, 41.723195, 41.868077, 41.869216, 41.662014,\n",
       "       41.961743, 41.953067, 41.878114, 41.958271, 41.932094, 41.994469,\n",
       "       42.006858, 41.916265, 41.846075, 41.918705, 41.682587, 41.725517,\n",
       "       41.948167, 41.963976, 41.953705, 41.964242, 41.990284, 42.008314,\n",
       "       41.991429, 41.843811, 41.921177, 41.852652, 41.857402, 41.868142,\n",
       "       41.846283, 41.721474, 41.869107, 41.719059, 41.966987, 41.923738,\n",
       "       41.970248, 42.010412, 41.89923 , 41.692555, 41.94016 , 41.903002,\n",
       "       41.942114, 41.960616, 41.883284, 41.704336, 41.962728, 41.836644,\n",
       "       41.837085, 41.911824, 41.823065, 41.801179, 41.800737, 41.778297,\n",
       "       41.77166 , 41.759346, 41.768388, 41.797616, 41.781416, 41.773215,\n",
       "       41.822536, 41.799282, 41.794781, 41.778748, 41.766202, 41.754676,\n",
       "       41.821582, 41.803423, 41.754292, 41.798697, 41.776156, 41.82561 ,\n",
       "       41.673408, 41.726465, 41.678618, 41.737052, 41.740641, 41.680946,\n",
       "       41.686398, 41.729669, 41.704572, 41.74785 , 41.775051, 41.644612,\n",
       "       41.733643, 41.717753, 41.750498, 41.702724, 41.984809, 41.772846,\n",
       "       41.825902, 41.659112, 41.992478, 41.974689, 41.957799, 41.925198,\n",
       "       41.973845, 41.743402, 41.728495, 41.947227, 41.793818, 41.753411,\n",
       "       41.904194, 41.951866, 41.912563, 41.763733, 41.98728 , 41.776428,\n",
       "       42.009876, 41.994679, 41.738903, 41.753391, 41.71914 , 41.925652])"
      ]
     },
     "execution_count": 53,
     "metadata": {},
     "output_type": "execute_result"
    }
   ],
   "source": [
    "train['latitude'].unique()"
   ]
  },
  {
   "cell_type": "markdown",
   "metadata": {},
   "source": [
    "### Longitude"
   ]
  },
  {
   "cell_type": "code",
   "execution_count": 54,
   "metadata": {},
   "outputs": [
    {
     "data": {
      "text/plain": [
       "0"
      ]
     },
     "execution_count": 54,
     "metadata": {},
     "output_type": "execute_result"
    }
   ],
   "source": [
    "train.longitude.isnull().sum()"
   ]
  },
  {
   "cell_type": "code",
   "execution_count": 55,
   "metadata": {},
   "outputs": [
    {
     "data": {
      "text/plain": [
       "array([-87.800991, -87.769279, -87.824812, -87.666455, -87.654491,\n",
       "       -87.654224, -87.655232, -87.694259, -87.632085, -87.676709,\n",
       "       -87.64886 , -87.666014, -87.677512, -87.61156 , -87.795585,\n",
       "       -87.687769, -87.760886, -87.649642, -87.812827, -87.832763,\n",
       "       -87.811506, -87.698457, -87.750938, -87.689778, -87.763416,\n",
       "       -87.701431, -87.64997 , -87.666901, -87.627561, -87.724608,\n",
       "       -87.76007 , -87.776792, -87.629798, -87.702575, -87.700117,\n",
       "       -87.667736, -87.675919, -87.800515, -87.716277, -87.752329,\n",
       "       -87.707973, -87.614258, -87.730698, -87.69181 , -87.733974,\n",
       "       -87.757639, -87.797127, -87.777921, -87.747113, -87.686763,\n",
       "       -87.79518 , -87.719887, -87.694991, -87.696269, -87.656913,\n",
       "       -87.648064, -87.696293, -87.675088, -87.674677, -87.785288,\n",
       "       -87.787992, -87.66214 , -87.716788, -87.598865, -87.794896,\n",
       "       -87.688267, -87.776385, -87.777189, -87.705085, -87.703736,\n",
       "       -87.748367, -87.677737, -87.729384, -87.726737, -87.678378,\n",
       "       -87.679447, -87.71188 , -87.752411, -87.703047, -87.745602,\n",
       "       -87.678649, -87.797894, -87.776532, -87.60088 , -87.666343,\n",
       "       -87.585487, -87.615989, -87.586427, -87.562889, -87.612922,\n",
       "       -87.627796, -87.642984, -87.590773, -87.736812, -87.778927,\n",
       "       -87.726549, -87.599862, -87.585413, -87.559308, -87.543067,\n",
       "       -87.546587, -87.535198, -87.531635, -87.582699, -87.565666,\n",
       "       -87.702716, -87.655356, -87.604498, -87.55551 , -87.531657,\n",
       "       -87.605294, -87.536497, -87.728492, -87.740029, -87.667827,\n",
       "       -87.538693, -87.862995, -87.890615, -87.930995, -87.746381,\n",
       "       -87.805059, -87.731435, -87.600963, -87.671457, -87.654234,\n",
       "       -87.639817, -87.756155, -87.725057, -87.668055, -87.742302,\n",
       "       -87.666066, -87.627096, -87.807277, -87.770899, -87.695443,\n",
       "       -87.707394, -87.669539, -87.63359 ])"
      ]
     },
     "execution_count": 55,
     "metadata": {},
     "output_type": "execute_result"
    }
   ],
   "source": [
    "train['longitude'].unique()"
   ]
  },
  {
   "cell_type": "markdown",
   "metadata": {},
   "source": [
    "### WNV Presence"
   ]
  },
  {
   "cell_type": "code",
   "execution_count": 56,
   "metadata": {},
   "outputs": [
    {
     "data": {
      "text/plain": [
       "0"
      ]
     },
     "execution_count": 56,
     "metadata": {},
     "output_type": "execute_result"
    }
   ],
   "source": [
    "train.wnvpresent.isnull().sum()"
   ]
  },
  {
   "cell_type": "code",
   "execution_count": 57,
   "metadata": {},
   "outputs": [
    {
     "data": {
      "text/plain": [
       "0    8139\n",
       "1     457\n",
       "Name: wnvpresent, dtype: int64"
      ]
     },
     "execution_count": 57,
     "metadata": {},
     "output_type": "execute_result"
    }
   ],
   "source": [
    "train.wnvpresent.value_counts()"
   ]
  },
  {
   "cell_type": "code",
   "execution_count": 58,
   "metadata": {},
   "outputs": [
    {
     "data": {
      "text/plain": [
       "0.05316426244765007"
      ]
     },
     "execution_count": 58,
     "metadata": {},
     "output_type": "execute_result"
    }
   ],
   "source": [
    "train.wnvpresent.mean()"
   ]
  },
  {
   "cell_type": "markdown",
   "metadata": {},
   "source": [
    "#### Relationship on location vs wnvpresent "
   ]
  },
  {
   "cell_type": "code",
   "execution_count": 59,
   "metadata": {},
   "outputs": [
    {
     "data": {
      "image/png": "[encoded data removed]",
      "text/plain": [
       "<Figure size 504x504 with 1 Axes>"
      ]
     },
     "metadata": {
      "needs_background": "light"
     },
     "output_type": "display_data"
    }
   ],
   "source": [
    "x = train['longitude']\n",
    "y = train['latitude']\n",
    "\n",
    "plt.figure(figsize=(7,7))\n",
    "sns.scatterplot(x,y,hue=train['wnvpresent'])\n",
    "\n",
    "plt.show()"
   ]
  },
  {
   "cell_type": "markdown",
   "metadata": {},
   "source": [
    "### Relationship between wnvpresent vs species vs tot_mos_species "
   ]
  },
  {
   "cell_type": "code",
   "execution_count": 60,
   "metadata": {},
   "outputs": [
    {
     "data": {
      "text/plain": [
       "species           wnvpresent\n",
       "OTHER             0              292\n",
       "PIPIENS           0             1812\n",
       "                  1              184\n",
       "PIPIENS/RESTUANS  0             3674\n",
       "                  1              225\n",
       "RESTUANS          0             2361\n",
       "                  1               48\n",
       "Name: wnvpresent, dtype: int64"
      ]
     },
     "execution_count": 60,
     "metadata": {},
     "output_type": "execute_result"
    }
   ],
   "source": [
    "train.groupby(by='species')['wnvpresent'].value_counts()"
   ]
  },
  {
   "cell_type": "code",
   "execution_count": 61,
   "metadata": {},
   "outputs": [
    {
     "data": {
      "image/png": "[encoded data removed]",
      "text/plain": [
       "<Figure size 1440x1080 with 4 Axes>"
      ]
     },
     "metadata": {
      "needs_background": "light"
     },
     "output_type": "display_data"
    }
   ],
   "source": [
    "fig, axes = plt.subplots(nrows=2,ncols=2,figsize=(20,15))\n",
    "axes = axes.ravel()\n",
    "\n",
    "# tot_mos_species vs month on species \n",
    "sns.pointplot(x='month',y='tot_mos_species',hue = 'species', \n",
    "              data = train[~train['species'].isin(['others'])].groupby(['month','species'], as_index=False)['tot_mos_species'].sum(),palette='Set2',ax=axes[0])\n",
    "\n",
    "axes[0].set(xticklabels=['May', 'June', 'July', 'August', 'September', 'October'])\n",
    "axes[0].set_ylabel('Number of Mosquitos in Trap')\n",
    "\n",
    "# Number Of Wnv Present vs month on species\n",
    "sns.pointplot(x='month',y='wnvpresent',hue ='species', \n",
    "              data = train[~train['month'].isin(['05'])].groupby(['month','species'], as_index=False)['wnvpresent'].sum(),palette='Set2',ax=axes[1])\n",
    "\n",
    "axes[1].set(xticklabels=['June','July','August','Sept',\"Oct\"])\n",
    "axes[1].set_ylabel('Number Of Wnv Present')\n",
    "\n",
    "# tot_mos_species vs month on wnvpresent\n",
    "sns.pointplot(x='month',y='tot_mos_species',hue ='wnvpresent', \n",
    "              data = train[~train['month'].isin(['05'])].groupby(['month','wnvpresent'], as_index=False)['tot_mos_species'].sum(),palette='cubehelix',ax=axes[2])\n",
    "\n",
    "axes[2].set(xticklabels=['June', 'July', 'August', 'September', 'October'])\n",
    "axes[2].set_ylabel('Number of Mosquitos in Trap')\n",
    "\n",
    "\n",
    "axes[3].axis('off')\n",
    "\n",
    "plt.show()"
   ]
  },
  {
   "cell_type": "markdown",
   "metadata": {},
   "source": [
    "Observaton:\n",
    "\n",
    "    1) incrememnt in wnvpresent starts from june, peaks in august and starts to decrease in september onwards\n",
    "    2) in terms of species, pipiens and pipiens/restuans are the 2 major species that contribute to wnvpresent "
   ]
  },
  {
   "cell_type": "markdown",
   "metadata": {},
   "source": []
  },
  {
   "cell_type": "code",
   "execution_count": 62,
   "metadata": {},
   "outputs": [
    {
     "data": {
      "image/png": "[encoded data removed]",
      "text/plain": [
       "<Figure size 1440x1080 with 4 Axes>"
      ]
     },
     "metadata": {
      "needs_background": "light"
     },
     "output_type": "display_data"
    }
   ],
   "source": [
    "fig, axes = plt.subplots(nrows=2,ncols=2,figsize=(20,15))\n",
    "axes = axes.ravel()\n",
    "\n",
    "# trend of wnvpresent across the months\n",
    "sns.pointplot(x='month',y='wnvpresent',hue = 'year', \n",
    "              data = train[~train['species'].isin(['others'])].groupby(['year','month'], as_index=False)['wnvpresent'].sum(),palette='Set2',ax=axes[0])\n",
    "\n",
    "axes[0].set(xticklabels=['May','June','July', 'August', 'September', 'October'])\n",
    "axes[0].set_ylabel('Number Of Wnv Present')\n",
    "\n",
    "\n",
    "# trend of no. of mosquito in trap across the months \n",
    "sns.pointplot(x='month',y='tot_mos_species',hue ='year', \n",
    "              data = train[~train['species'].isin(['others'])].groupby(['month','year'], as_index=False)['tot_mos_species'].sum(),palette='Set2',ax=axes[1])\n",
    "\n",
    "axes[1].set(xticklabels=['May','June','July','August','Sept',\"Oct\"])\n",
    "axes[1].set_ylabel('Number of Mosquitos in Trap')\n",
    "\n",
    "\n",
    "# ltrend of no. of wnvpresent vs year per species \n",
    "sns.pointplot(x='year',y='wnvpresent',hue ='species', \n",
    "              data = train.groupby(['year','species'], as_index=False)['wnvpresent'].sum(),palette='Set2',ax=axes[2])\n",
    "\n",
    "axes[2].set(xticklabels=['2007','2009','2011','2013'])\n",
    "axes[2].set_ylabel('Number Of Wnv Present')\n",
    "\n",
    "\n",
    "# trend of no. of mosquito in trap vs year per species\n",
    "sns.pointplot(x='year',y='tot_mos_species',hue ='species', \n",
    "              data = train.groupby(['year','species'], as_index=False)['tot_mos_species'].sum(),palette='Set2',ax=axes[3])\n",
    "\n",
    "axes[3].set(xticklabels=['2007','2009','2011','2013'])\n",
    "axes[3].set_ylabel('Number of Mosquitos in Trap')\n",
    "\n",
    "plt.show()"
   ]
  },
  {
   "cell_type": "markdown",
   "metadata": {},
   "source": [
    "# Feature Engineering"
   ]
  },
  {
   "cell_type": "code",
   "execution_count": 63,
   "metadata": {},
   "outputs": [],
   "source": [
    "train_get_dum = pd.get_dummies(data=train, prefix=['species'],columns=['species'],drop_first=True)"
   ]
  },
  {
   "cell_type": "code",
   "execution_count": 64,
   "metadata": {},
   "outputs": [
    {
     "data": {
      "text/html": [
       "<div>\n",
       "<style scoped>\n",
       "    .dataframe tbody tr th:only-of-type {\n",
       "        vertical-align: middle;\n",
       "    }\n",
       "\n",
       "    .dataframe tbody tr th {\n",
       "        vertical-align: top;\n",
       "    }\n",
       "\n",
       "    .dataframe thead th {\n",
       "        text-align: right;\n",
       "    }\n",
       "</style>\n",
       "<table border=\"1\" class=\"dataframe\">\n",
       "  <thead>\n",
       "    <tr style=\"text-align: right;\">\n",
       "      <th></th>\n",
       "      <th>date</th>\n",
       "      <th>trap</th>\n",
       "      <th>latitude</th>\n",
       "      <th>longitude</th>\n",
       "      <th>nummosquitos</th>\n",
       "      <th>wnvpresent</th>\n",
       "      <th>year</th>\n",
       "      <th>month</th>\n",
       "      <th>day</th>\n",
       "      <th>tot_mos_species</th>\n",
       "      <th>species_PIPIENS</th>\n",
       "      <th>species_PIPIENS/RESTUANS</th>\n",
       "      <th>species_RESTUANS</th>\n",
       "    </tr>\n",
       "  </thead>\n",
       "  <tbody>\n",
       "    <tr>\n",
       "      <th>0</th>\n",
       "      <td>2007-05-29</td>\n",
       "      <td>T002</td>\n",
       "      <td>41.95469</td>\n",
       "      <td>-87.800991</td>\n",
       "      <td>1</td>\n",
       "      <td>0</td>\n",
       "      <td>2007</td>\n",
       "      <td>05</td>\n",
       "      <td>29</td>\n",
       "      <td>1</td>\n",
       "      <td>0</td>\n",
       "      <td>1</td>\n",
       "      <td>0</td>\n",
       "    </tr>\n",
       "    <tr>\n",
       "      <th>1</th>\n",
       "      <td>2007-05-29</td>\n",
       "      <td>T002</td>\n",
       "      <td>41.95469</td>\n",
       "      <td>-87.800991</td>\n",
       "      <td>1</td>\n",
       "      <td>0</td>\n",
       "      <td>2007</td>\n",
       "      <td>05</td>\n",
       "      <td>29</td>\n",
       "      <td>1</td>\n",
       "      <td>0</td>\n",
       "      <td>0</td>\n",
       "      <td>1</td>\n",
       "    </tr>\n",
       "  </tbody>\n",
       "</table>\n",
       "</div>"
      ],
      "text/plain": [
       "         date  trap  latitude  longitude  nummosquitos  wnvpresent  year  \\\n",
       "0  2007-05-29  T002  41.95469 -87.800991             1           0  2007   \n",
       "1  2007-05-29  T002  41.95469 -87.800991             1           0  2007   \n",
       "\n",
       "  month day  tot_mos_species  species_PIPIENS  species_PIPIENS/RESTUANS  \\\n",
       "0    05  29                1                0                         1   \n",
       "1    05  29                1                0                         0   \n",
       "\n",
       "   species_RESTUANS  \n",
       "0                 0  \n",
       "1                 1  "
      ]
     },
     "execution_count": 64,
     "metadata": {},
     "output_type": "execute_result"
    }
   ],
   "source": [
    "train_get_dum.head(2)"
   ]
  },
  {
   "cell_type": "code",
   "execution_count": 65,
   "metadata": {},
   "outputs": [
    {
     "data": {
      "text/plain": [
       "(8596, 13)"
      ]
     },
     "execution_count": 65,
     "metadata": {},
     "output_type": "execute_result"
    }
   ],
   "source": [
    "train_get_dum.shape"
   ]
  },
  {
   "cell_type": "code",
   "execution_count": 66,
   "metadata": {},
   "outputs": [
    {
     "data": {
      "text/plain": [
       "(0, 13)"
      ]
     },
     "execution_count": 66,
     "metadata": {},
     "output_type": "execute_result"
    }
   ],
   "source": [
    "train_get_dum[train_get_dum.duplicated()].shape"
   ]
  },
  {
   "cell_type": "markdown",
   "metadata": {},
   "source": [
    "----------------------------------"
   ]
  },
  {
   "cell_type": "markdown",
   "metadata": {},
   "source": [
    "# Test Dataset"
   ]
  },
  {
   "cell_type": "code",
   "execution_count": 67,
   "metadata": {},
   "outputs": [
    {
     "data": {
      "text/plain": [
       "(0, 11)"
      ]
     },
     "execution_count": 67,
     "metadata": {},
     "output_type": "execute_result"
    }
   ],
   "source": [
    "test[test.duplicated()].shape"
   ]
  },
  {
   "cell_type": "code",
   "execution_count": 68,
   "metadata": {},
   "outputs": [],
   "source": [
    "test.columns = test.columns.map(lambda x: x.lower())"
   ]
  },
  {
   "cell_type": "code",
   "execution_count": 69,
   "metadata": {},
   "outputs": [
    {
     "data": {
      "text/plain": [
       "Index(['id', 'date', 'address', 'species', 'block', 'street', 'trap',\n",
       "       'addressnumberandstreet', 'latitude', 'longitude', 'addressaccuracy'],\n",
       "      dtype='object')"
      ]
     },
     "execution_count": 69,
     "metadata": {},
     "output_type": "execute_result"
    }
   ],
   "source": [
    "test.columns"
   ]
  },
  {
   "cell_type": "code",
   "execution_count": 70,
   "metadata": {},
   "outputs": [
    {
     "data": {
      "text/plain": [
       "id                          int64\n",
       "date                       object\n",
       "address                    object\n",
       "species                    object\n",
       "block                       int64\n",
       "street                     object\n",
       "trap                       object\n",
       "addressnumberandstreet     object\n",
       "latitude                  float64\n",
       "longitude                 float64\n",
       "addressaccuracy             int64\n",
       "dtype: object"
      ]
     },
     "execution_count": 70,
     "metadata": {},
     "output_type": "execute_result"
    }
   ],
   "source": [
    "test.dtypes"
   ]
  },
  {
   "cell_type": "markdown",
   "metadata": {},
   "source": [
    "### Date"
   ]
  },
  {
   "cell_type": "code",
   "execution_count": 71,
   "metadata": {},
   "outputs": [
    {
     "data": {
      "text/plain": [
       "0         2008-06-11\n",
       "1         2008-06-11\n",
       "2         2008-06-11\n",
       "3         2008-06-11\n",
       "4         2008-06-11\n",
       "             ...    \n",
       "116288    2014-10-02\n",
       "116289    2014-10-02\n",
       "116290    2014-10-02\n",
       "116291    2014-10-02\n",
       "116292    2014-10-02\n",
       "Name: date, Length: 116293, dtype: object"
      ]
     },
     "execution_count": 71,
     "metadata": {},
     "output_type": "execute_result"
    }
   ],
   "source": [
    "test['date']"
   ]
  },
  {
   "cell_type": "code",
   "execution_count": 72,
   "metadata": {},
   "outputs": [
    {
     "data": {
      "text/plain": [
       "0         [2008, 06, 11]\n",
       "1         [2008, 06, 11]\n",
       "2         [2008, 06, 11]\n",
       "3         [2008, 06, 11]\n",
       "4         [2008, 06, 11]\n",
       "               ...      \n",
       "116288    [2014, 10, 02]\n",
       "116289    [2014, 10, 02]\n",
       "116290    [2014, 10, 02]\n",
       "116291    [2014, 10, 02]\n",
       "116292    [2014, 10, 02]\n",
       "Name: date_split, Length: 116293, dtype: object"
      ]
     },
     "execution_count": 72,
     "metadata": {},
     "output_type": "execute_result"
    }
   ],
   "source": [
    "test['date_split'] = test['date'].str.split('-')\n",
    "test['date_split']"
   ]
  },
  {
   "cell_type": "code",
   "execution_count": 73,
   "metadata": {},
   "outputs": [
    {
     "data": {
      "text/plain": [
       "0         2008\n",
       "1         2008\n",
       "2         2008\n",
       "3         2008\n",
       "4         2008\n",
       "          ... \n",
       "116288    2014\n",
       "116289    2014\n",
       "116290    2014\n",
       "116291    2014\n",
       "116292    2014\n",
       "Name: year, Length: 116293, dtype: object"
      ]
     },
     "execution_count": 73,
     "metadata": {},
     "output_type": "execute_result"
    }
   ],
   "source": [
    "test['year'] = [y[0] for y in test['date_split']]\n",
    "test['year']"
   ]
  },
  {
   "cell_type": "code",
   "execution_count": 74,
   "metadata": {},
   "outputs": [
    {
     "data": {
      "text/plain": [
       "0         06\n",
       "1         06\n",
       "2         06\n",
       "3         06\n",
       "4         06\n",
       "          ..\n",
       "116288    10\n",
       "116289    10\n",
       "116290    10\n",
       "116291    10\n",
       "116292    10\n",
       "Name: month, Length: 116293, dtype: object"
      ]
     },
     "execution_count": 74,
     "metadata": {},
     "output_type": "execute_result"
    }
   ],
   "source": [
    "test['month'] = [y[1] for y in test['date_split']]\n",
    "test['month']"
   ]
  },
  {
   "cell_type": "code",
   "execution_count": 75,
   "metadata": {},
   "outputs": [
    {
     "data": {
      "text/plain": [
       "0         11\n",
       "1         11\n",
       "2         11\n",
       "3         11\n",
       "4         11\n",
       "          ..\n",
       "116288    02\n",
       "116289    02\n",
       "116290    02\n",
       "116291    02\n",
       "116292    02\n",
       "Name: day, Length: 116293, dtype: object"
      ]
     },
     "execution_count": 75,
     "metadata": {},
     "output_type": "execute_result"
    }
   ],
   "source": [
    "test['day'] = [y[2] for y in test['date_split']]\n",
    "test['day']"
   ]
  },
  {
   "cell_type": "code",
   "execution_count": 76,
   "metadata": {},
   "outputs": [],
   "source": [
    "test.drop(columns = 'date_split',inplace = True)"
   ]
  },
  {
   "cell_type": "code",
   "execution_count": 77,
   "metadata": {},
   "outputs": [
    {
     "data": {
      "text/plain": [
       "Index(['id', 'date', 'address', 'species', 'block', 'street', 'trap',\n",
       "       'addressnumberandstreet', 'latitude', 'longitude', 'addressaccuracy',\n",
       "       'year', 'month', 'day'],\n",
       "      dtype='object')"
      ]
     },
     "execution_count": 77,
     "metadata": {},
     "output_type": "execute_result"
    }
   ],
   "source": [
    "test.columns"
   ]
  },
  {
   "cell_type": "markdown",
   "metadata": {},
   "source": [
    "### Species"
   ]
  },
  {
   "cell_type": "code",
   "execution_count": 78,
   "metadata": {},
   "outputs": [
    {
     "data": {
      "text/plain": [
       "CULEX PIPIENS/RESTUANS    15359\n",
       "CULEX RESTUANS            14670\n",
       "CULEX PIPIENS             14521\n",
       "CULEX SALINARIUS          14355\n",
       "CULEX TERRITANS           14351\n",
       "CULEX TARSALIS            14347\n",
       "UNSPECIFIED CULEX         14345\n",
       "CULEX ERRATICUS           14345\n",
       "Name: species, dtype: int64"
      ]
     },
     "execution_count": 78,
     "metadata": {},
     "output_type": "execute_result"
    }
   ],
   "source": [
    "test['species'].value_counts()"
   ]
  },
  {
   "cell_type": "code",
   "execution_count": 79,
   "metadata": {},
   "outputs": [],
   "source": [
    "test.species = test.species.map({'CULEX PIPIENS/RESTUANS': 'PIPIENS/RESTUANS',\n",
    "                                   'CULEX RESTUANS': 'RESTUANS',\n",
    "                                   'CULEX PIPIENS': 'PIPIENS',\n",
    "                                   'CULEX TERRITANS': 'OTHER', \n",
    "                                   'CULEX SALINARIUS': 'OTHER',\n",
    "                                   'CULEX TARSALIS': 'OTHER',\n",
    "                                   'CULEX ERRATICUS': 'OTHER',\n",
    "                                   'UNSPECIFIED CULEX': 'OTHER'})"
   ]
  },
  {
   "cell_type": "code",
   "execution_count": 80,
   "metadata": {},
   "outputs": [
    {
     "data": {
      "text/plain": [
       "OTHER               71743\n",
       "PIPIENS/RESTUANS    15359\n",
       "RESTUANS            14670\n",
       "PIPIENS             14521\n",
       "Name: species, dtype: int64"
      ]
     },
     "execution_count": 80,
     "metadata": {},
     "output_type": "execute_result"
    }
   ],
   "source": [
    "test['species'].value_counts()"
   ]
  },
  {
   "cell_type": "code",
   "execution_count": 81,
   "metadata": {},
   "outputs": [
    {
     "data": {
      "text/plain": [
       "Index(['id', 'date', 'address', 'species', 'block', 'street', 'trap',\n",
       "       'addressnumberandstreet', 'latitude', 'longitude', 'addressaccuracy',\n",
       "       'year', 'month', 'day'],\n",
       "      dtype='object')"
      ]
     },
     "execution_count": 81,
     "metadata": {},
     "output_type": "execute_result"
    }
   ],
   "source": [
    "test.columns"
   ]
  },
  {
   "cell_type": "markdown",
   "metadata": {},
   "source": [
    "### Block, address, street, addressnumberandstreet, addressaccuracy"
   ]
  },
  {
   "cell_type": "markdown",
   "metadata": {},
   "source": [
    "Dropping block, address, street, addressnumberandstreet & addressaccuracy since we did it to the train dataset"
   ]
  },
  {
   "cell_type": "code",
   "execution_count": 82,
   "metadata": {},
   "outputs": [],
   "source": [
    "test.drop(columns = 'block',inplace = True)\n",
    "test.drop(columns = 'address',inplace = True)\n",
    "test.drop(columns = 'street',inplace = True)\n",
    "test.drop(columns = 'addressnumberandstreet',inplace = True)\n",
    "test.drop(columns = 'addressaccuracy',inplace = True)"
   ]
  },
  {
   "cell_type": "markdown",
   "metadata": {},
   "source": [
    "### Trap"
   ]
  },
  {
   "cell_type": "code",
   "execution_count": 83,
   "metadata": {},
   "outputs": [
    {
     "data": {
      "text/plain": [
       "T900    181\n",
       "T115    156\n",
       "T135    153\n",
       "T002    150\n",
       "T151    144\n",
       "       ... \n",
       "T238      7\n",
       "T078      6\n",
       "T076      5\n",
       "T237      3\n",
       "T040      2\n",
       "Name: trap, Length: 134, dtype: int64"
      ]
     },
     "execution_count": 83,
     "metadata": {},
     "output_type": "execute_result"
    }
   ],
   "source": [
    "train.trap.value_counts()"
   ]
  },
  {
   "cell_type": "code",
   "execution_count": 84,
   "metadata": {},
   "outputs": [
    {
     "data": {
      "text/plain": [
       "array(['T002', 'T007', 'T015', 'T045', 'T046', 'T048', 'T049', 'T050',\n",
       "       'T054', 'T086', 'T091', 'T094', 'T096', 'T129', 'T143', 'T148',\n",
       "       'T153', 'T159', 'T009', 'T011', 'T016', 'T019', 'T025', 'T028',\n",
       "       'T031', 'T033', 'T089', 'T090', 'T092', 'T135', 'T141', 'T142',\n",
       "       'T145', 'T146', 'T147', 'T149', 'T150', 'T151', 'T152', 'T154',\n",
       "       'T158', 'T162', 'T218', 'T220', 'T001', 'T003', 'T006', 'T008',\n",
       "       'T012', 'T034', 'T037', 'T040', 'T043', 'T047', 'T051', 'T085',\n",
       "       'T088', 'T161', 'T219', 'T013', 'T014', 'T018', 'T030', 'T084',\n",
       "       'T144', 'T160', 'T005', 'T017', 'T044', 'T095', 'T004', 'T035',\n",
       "       'T036', 'T039', 'T060', 'T061', 'T062', 'T065', 'T066', 'T067',\n",
       "       'T069', 'T070', 'T071', 'T073', 'T074', 'T075', 'T076', 'T077',\n",
       "       'T079', 'T080', 'T081', 'T082', 'T083', 'T114', 'T155', 'T063',\n",
       "       'T115', 'T138', 'T200', 'T206', 'T209', 'T212', 'T215', 'T107',\n",
       "       'T128', 'T072', 'T078', 'T097', 'T099', 'T100', 'T102', 'T103',\n",
       "       'T027', 'T156', 'T157', 'T221', 'T900', 'T903', 'T090A', 'T090B',\n",
       "       'T090C', 'T200A', 'T128A', 'T200B', 'T218A', 'T218C', 'T218B',\n",
       "       'T222', 'T223', 'T225', 'T227', 'T224', 'T226', 'T229', 'T230',\n",
       "       'T228', 'T231', 'T232', 'T002A', 'T002B', 'T233', 'T234', 'T235',\n",
       "       'T236', 'T237', 'T238', 'T065A', 'T094B', 'T054C'], dtype=object)"
      ]
     },
     "execution_count": 84,
     "metadata": {},
     "output_type": "execute_result"
    }
   ],
   "source": [
    "test.trap.unique()"
   ]
  },
  {
   "cell_type": "code",
   "execution_count": 85,
   "metadata": {},
   "outputs": [],
   "source": [
    "#convert all satellite trap to have the same trap name as parent trap\n",
    "trap_rename = lambda x: x[0:4] if len(x)==5 else x\n",
    "test['trap'] = test['trap'].apply(trap_rename)"
   ]
  },
  {
   "cell_type": "code",
   "execution_count": 86,
   "metadata": {},
   "outputs": [
    {
     "data": {
      "text/plain": [
       "array(['T002', 'T007', 'T015', 'T045', 'T046', 'T048', 'T049', 'T050',\n",
       "       'T054', 'T086', 'T091', 'T094', 'T096', 'T129', 'T143', 'T148',\n",
       "       'T153', 'T159', 'T009', 'T011', 'T016', 'T019', 'T025', 'T028',\n",
       "       'T031', 'T033', 'T089', 'T090', 'T092', 'T135', 'T141', 'T142',\n",
       "       'T145', 'T146', 'T147', 'T149', 'T150', 'T151', 'T152', 'T154',\n",
       "       'T158', 'T162', 'T218', 'T220', 'T001', 'T003', 'T006', 'T008',\n",
       "       'T012', 'T034', 'T037', 'T040', 'T043', 'T047', 'T051', 'T085',\n",
       "       'T088', 'T161', 'T219', 'T013', 'T014', 'T018', 'T030', 'T084',\n",
       "       'T144', 'T160', 'T005', 'T017', 'T044', 'T095', 'T004', 'T035',\n",
       "       'T036', 'T039', 'T060', 'T061', 'T062', 'T065', 'T066', 'T067',\n",
       "       'T069', 'T070', 'T071', 'T073', 'T074', 'T075', 'T076', 'T077',\n",
       "       'T079', 'T080', 'T081', 'T082', 'T083', 'T114', 'T155', 'T063',\n",
       "       'T115', 'T138', 'T200', 'T206', 'T209', 'T212', 'T215', 'T107',\n",
       "       'T128', 'T072', 'T078', 'T097', 'T099', 'T100', 'T102', 'T103',\n",
       "       'T027', 'T156', 'T157', 'T221', 'T900', 'T903', 'T222', 'T223',\n",
       "       'T225', 'T227', 'T224', 'T226', 'T229', 'T230', 'T228', 'T231',\n",
       "       'T232', 'T233', 'T234', 'T235', 'T236', 'T237', 'T238'],\n",
       "      dtype=object)"
      ]
     },
     "execution_count": 86,
     "metadata": {},
     "output_type": "execute_result"
    }
   ],
   "source": [
    "test.trap.unique()"
   ]
  },
  {
   "cell_type": "code",
   "execution_count": 87,
   "metadata": {},
   "outputs": [
    {
     "data": {
      "text/plain": [
       "<matplotlib.axes._subplots.AxesSubplot at 0x12d5e5d10>"
      ]
     },
     "execution_count": 87,
     "metadata": {},
     "output_type": "execute_result"
    },
    {
     "data": {
      "image/png": "[encoded data removed]",
      "text/plain": [
       "<Figure size 576x576 with 1 Axes>"
      ]
     },
     "metadata": {
      "needs_background": "light"
     },
     "output_type": "display_data"
    }
   ],
   "source": [
    "X= test['longitude']\n",
    "y = test['latitude']\n",
    "\n",
    "plt.figure(figsize=(8,8))\n",
    "sns.scatterplot(X,y)"
   ]
  },
  {
   "cell_type": "markdown",
   "metadata": {},
   "source": [
    "# Feature engineering "
   ]
  },
  {
   "cell_type": "code",
   "execution_count": 88,
   "metadata": {},
   "outputs": [],
   "source": [
    "test_get_dum = pd.get_dummies(data=test, prefix=['species'],columns=['species'],drop_first=True)"
   ]
  },
  {
   "cell_type": "code",
   "execution_count": 89,
   "metadata": {},
   "outputs": [
    {
     "data": {
      "text/html": [
       "<div>\n",
       "<style scoped>\n",
       "    .dataframe tbody tr th:only-of-type {\n",
       "        vertical-align: middle;\n",
       "    }\n",
       "\n",
       "    .dataframe tbody tr th {\n",
       "        vertical-align: top;\n",
       "    }\n",
       "\n",
       "    .dataframe thead th {\n",
       "        text-align: right;\n",
       "    }\n",
       "</style>\n",
       "<table border=\"1\" class=\"dataframe\">\n",
       "  <thead>\n",
       "    <tr style=\"text-align: right;\">\n",
       "      <th></th>\n",
       "      <th>id</th>\n",
       "      <th>date</th>\n",
       "      <th>trap</th>\n",
       "      <th>latitude</th>\n",
       "      <th>longitude</th>\n",
       "      <th>year</th>\n",
       "      <th>month</th>\n",
       "      <th>day</th>\n",
       "      <th>species_PIPIENS</th>\n",
       "      <th>species_PIPIENS/RESTUANS</th>\n",
       "      <th>species_RESTUANS</th>\n",
       "    </tr>\n",
       "  </thead>\n",
       "  <tbody>\n",
       "    <tr>\n",
       "      <th>0</th>\n",
       "      <td>1</td>\n",
       "      <td>2008-06-11</td>\n",
       "      <td>T002</td>\n",
       "      <td>41.954690</td>\n",
       "      <td>-87.800991</td>\n",
       "      <td>2008</td>\n",
       "      <td>06</td>\n",
       "      <td>11</td>\n",
       "      <td>0</td>\n",
       "      <td>1</td>\n",
       "      <td>0</td>\n",
       "    </tr>\n",
       "    <tr>\n",
       "      <th>1</th>\n",
       "      <td>2</td>\n",
       "      <td>2008-06-11</td>\n",
       "      <td>T002</td>\n",
       "      <td>41.954690</td>\n",
       "      <td>-87.800991</td>\n",
       "      <td>2008</td>\n",
       "      <td>06</td>\n",
       "      <td>11</td>\n",
       "      <td>0</td>\n",
       "      <td>0</td>\n",
       "      <td>1</td>\n",
       "    </tr>\n",
       "    <tr>\n",
       "      <th>2</th>\n",
       "      <td>3</td>\n",
       "      <td>2008-06-11</td>\n",
       "      <td>T002</td>\n",
       "      <td>41.954690</td>\n",
       "      <td>-87.800991</td>\n",
       "      <td>2008</td>\n",
       "      <td>06</td>\n",
       "      <td>11</td>\n",
       "      <td>1</td>\n",
       "      <td>0</td>\n",
       "      <td>0</td>\n",
       "    </tr>\n",
       "    <tr>\n",
       "      <th>3</th>\n",
       "      <td>4</td>\n",
       "      <td>2008-06-11</td>\n",
       "      <td>T002</td>\n",
       "      <td>41.954690</td>\n",
       "      <td>-87.800991</td>\n",
       "      <td>2008</td>\n",
       "      <td>06</td>\n",
       "      <td>11</td>\n",
       "      <td>0</td>\n",
       "      <td>0</td>\n",
       "      <td>0</td>\n",
       "    </tr>\n",
       "    <tr>\n",
       "      <th>4</th>\n",
       "      <td>5</td>\n",
       "      <td>2008-06-11</td>\n",
       "      <td>T002</td>\n",
       "      <td>41.954690</td>\n",
       "      <td>-87.800991</td>\n",
       "      <td>2008</td>\n",
       "      <td>06</td>\n",
       "      <td>11</td>\n",
       "      <td>0</td>\n",
       "      <td>0</td>\n",
       "      <td>0</td>\n",
       "    </tr>\n",
       "    <tr>\n",
       "      <th>...</th>\n",
       "      <td>...</td>\n",
       "      <td>...</td>\n",
       "      <td>...</td>\n",
       "      <td>...</td>\n",
       "      <td>...</td>\n",
       "      <td>...</td>\n",
       "      <td>...</td>\n",
       "      <td>...</td>\n",
       "      <td>...</td>\n",
       "      <td>...</td>\n",
       "      <td>...</td>\n",
       "    </tr>\n",
       "    <tr>\n",
       "      <th>116288</th>\n",
       "      <td>116289</td>\n",
       "      <td>2014-10-02</td>\n",
       "      <td>T054</td>\n",
       "      <td>41.925652</td>\n",
       "      <td>-87.633590</td>\n",
       "      <td>2014</td>\n",
       "      <td>10</td>\n",
       "      <td>02</td>\n",
       "      <td>0</td>\n",
       "      <td>0</td>\n",
       "      <td>0</td>\n",
       "    </tr>\n",
       "    <tr>\n",
       "      <th>116289</th>\n",
       "      <td>116290</td>\n",
       "      <td>2014-10-02</td>\n",
       "      <td>T054</td>\n",
       "      <td>41.925652</td>\n",
       "      <td>-87.633590</td>\n",
       "      <td>2014</td>\n",
       "      <td>10</td>\n",
       "      <td>02</td>\n",
       "      <td>0</td>\n",
       "      <td>0</td>\n",
       "      <td>0</td>\n",
       "    </tr>\n",
       "    <tr>\n",
       "      <th>116290</th>\n",
       "      <td>116291</td>\n",
       "      <td>2014-10-02</td>\n",
       "      <td>T054</td>\n",
       "      <td>41.925652</td>\n",
       "      <td>-87.633590</td>\n",
       "      <td>2014</td>\n",
       "      <td>10</td>\n",
       "      <td>02</td>\n",
       "      <td>0</td>\n",
       "      <td>0</td>\n",
       "      <td>0</td>\n",
       "    </tr>\n",
       "    <tr>\n",
       "      <th>116291</th>\n",
       "      <td>116292</td>\n",
       "      <td>2014-10-02</td>\n",
       "      <td>T054</td>\n",
       "      <td>41.925652</td>\n",
       "      <td>-87.633590</td>\n",
       "      <td>2014</td>\n",
       "      <td>10</td>\n",
       "      <td>02</td>\n",
       "      <td>0</td>\n",
       "      <td>0</td>\n",
       "      <td>0</td>\n",
       "    </tr>\n",
       "    <tr>\n",
       "      <th>116292</th>\n",
       "      <td>116293</td>\n",
       "      <td>2014-10-02</td>\n",
       "      <td>T054</td>\n",
       "      <td>41.925652</td>\n",
       "      <td>-87.633590</td>\n",
       "      <td>2014</td>\n",
       "      <td>10</td>\n",
       "      <td>02</td>\n",
       "      <td>0</td>\n",
       "      <td>0</td>\n",
       "      <td>0</td>\n",
       "    </tr>\n",
       "  </tbody>\n",
       "</table>\n",
       "<p>116293 rows × 11 columns</p>\n",
       "</div>"
      ],
      "text/plain": [
       "            id        date  trap   latitude  longitude  year month day  \\\n",
       "0            1  2008-06-11  T002  41.954690 -87.800991  2008    06  11   \n",
       "1            2  2008-06-11  T002  41.954690 -87.800991  2008    06  11   \n",
       "2            3  2008-06-11  T002  41.954690 -87.800991  2008    06  11   \n",
       "3            4  2008-06-11  T002  41.954690 -87.800991  2008    06  11   \n",
       "4            5  2008-06-11  T002  41.954690 -87.800991  2008    06  11   \n",
       "...        ...         ...   ...        ...        ...   ...   ...  ..   \n",
       "116288  116289  2014-10-02  T054  41.925652 -87.633590  2014    10  02   \n",
       "116289  116290  2014-10-02  T054  41.925652 -87.633590  2014    10  02   \n",
       "116290  116291  2014-10-02  T054  41.925652 -87.633590  2014    10  02   \n",
       "116291  116292  2014-10-02  T054  41.925652 -87.633590  2014    10  02   \n",
       "116292  116293  2014-10-02  T054  41.925652 -87.633590  2014    10  02   \n",
       "\n",
       "        species_PIPIENS  species_PIPIENS/RESTUANS  species_RESTUANS  \n",
       "0                     0                         1                 0  \n",
       "1                     0                         0                 1  \n",
       "2                     1                         0                 0  \n",
       "3                     0                         0                 0  \n",
       "4                     0                         0                 0  \n",
       "...                 ...                       ...               ...  \n",
       "116288                0                         0                 0  \n",
       "116289                0                         0                 0  \n",
       "116290                0                         0                 0  \n",
       "116291                0                         0                 0  \n",
       "116292                0                         0                 0  \n",
       "\n",
       "[116293 rows x 11 columns]"
      ]
     },
     "execution_count": 89,
     "metadata": {},
     "output_type": "execute_result"
    }
   ],
   "source": [
    "test_get_dum"
   ]
  },
  {
   "cell_type": "code",
   "execution_count": 90,
   "metadata": {},
   "outputs": [
    {
     "data": {
      "text/plain": [
       "(0, 11)"
      ]
     },
     "execution_count": 90,
     "metadata": {},
     "output_type": "execute_result"
    }
   ],
   "source": [
    "test_get_dum[test_get_dum.duplicated()].shape"
   ]
  },
  {
   "cell_type": "code",
   "execution_count": null,
   "metadata": {},
   "outputs": [],
   "source": []
  },
  {
   "cell_type": "markdown",
   "metadata": {},
   "source": [
    "--------------------------------"
   ]
  },
  {
   "cell_type": "markdown",
   "metadata": {},
   "source": [
    "# Spray"
   ]
  },
  {
   "cell_type": "code",
   "execution_count": 91,
   "metadata": {},
   "outputs": [],
   "source": [
    "spray.columns = spray.columns.map(lambda x: x.lower())"
   ]
  },
  {
   "cell_type": "code",
   "execution_count": 92,
   "metadata": {},
   "outputs": [
    {
     "data": {
      "text/plain": [
       "Index(['date', 'time', 'latitude', 'longitude'], dtype='object')"
      ]
     },
     "execution_count": 92,
     "metadata": {},
     "output_type": "execute_result"
    }
   ],
   "source": [
    "spray.columns"
   ]
  },
  {
   "cell_type": "code",
   "execution_count": 93,
   "metadata": {},
   "outputs": [
    {
     "data": {
      "text/plain": [
       "(14835, 4)"
      ]
     },
     "execution_count": 93,
     "metadata": {},
     "output_type": "execute_result"
    }
   ],
   "source": [
    "spray.shape"
   ]
  },
  {
   "cell_type": "code",
   "execution_count": 94,
   "metadata": {},
   "outputs": [
    {
     "data": {
      "text/plain": [
       "date           0\n",
       "time         584\n",
       "latitude       0\n",
       "longitude      0\n",
       "dtype: int64"
      ]
     },
     "execution_count": 94,
     "metadata": {},
     "output_type": "execute_result"
    }
   ],
   "source": [
    "spray.isnull().sum()"
   ]
  },
  {
   "cell_type": "code",
   "execution_count": 95,
   "metadata": {},
   "outputs": [
    {
     "data": {
      "text/html": [
       "<div>\n",
       "<style scoped>\n",
       "    .dataframe tbody tr th:only-of-type {\n",
       "        vertical-align: middle;\n",
       "    }\n",
       "\n",
       "    .dataframe tbody tr th {\n",
       "        vertical-align: top;\n",
       "    }\n",
       "\n",
       "    .dataframe thead th {\n",
       "        text-align: right;\n",
       "    }\n",
       "</style>\n",
       "<table border=\"1\" class=\"dataframe\">\n",
       "  <thead>\n",
       "    <tr style=\"text-align: right;\">\n",
       "      <th></th>\n",
       "      <th>date</th>\n",
       "      <th>time</th>\n",
       "      <th>latitude</th>\n",
       "      <th>longitude</th>\n",
       "    </tr>\n",
       "  </thead>\n",
       "  <tbody>\n",
       "    <tr>\n",
       "      <th>0</th>\n",
       "      <td>2011-08-29</td>\n",
       "      <td>6:56:58 PM</td>\n",
       "      <td>42.391623</td>\n",
       "      <td>-88.089163</td>\n",
       "    </tr>\n",
       "    <tr>\n",
       "      <th>1</th>\n",
       "      <td>2011-08-29</td>\n",
       "      <td>6:57:08 PM</td>\n",
       "      <td>42.391348</td>\n",
       "      <td>-88.089163</td>\n",
       "    </tr>\n",
       "    <tr>\n",
       "      <th>2</th>\n",
       "      <td>2011-08-29</td>\n",
       "      <td>6:57:18 PM</td>\n",
       "      <td>42.391022</td>\n",
       "      <td>-88.089157</td>\n",
       "    </tr>\n",
       "    <tr>\n",
       "      <th>3</th>\n",
       "      <td>2011-08-29</td>\n",
       "      <td>6:57:28 PM</td>\n",
       "      <td>42.390637</td>\n",
       "      <td>-88.089158</td>\n",
       "    </tr>\n",
       "    <tr>\n",
       "      <th>4</th>\n",
       "      <td>2011-08-29</td>\n",
       "      <td>6:57:38 PM</td>\n",
       "      <td>42.390410</td>\n",
       "      <td>-88.088858</td>\n",
       "    </tr>\n",
       "  </tbody>\n",
       "</table>\n",
       "</div>"
      ],
      "text/plain": [
       "         date        time   latitude  longitude\n",
       "0  2011-08-29  6:56:58 PM  42.391623 -88.089163\n",
       "1  2011-08-29  6:57:08 PM  42.391348 -88.089163\n",
       "2  2011-08-29  6:57:18 PM  42.391022 -88.089157\n",
       "3  2011-08-29  6:57:28 PM  42.390637 -88.089158\n",
       "4  2011-08-29  6:57:38 PM  42.390410 -88.088858"
      ]
     },
     "execution_count": 95,
     "metadata": {},
     "output_type": "execute_result"
    }
   ],
   "source": [
    "spray.head()"
   ]
  },
  {
   "cell_type": "markdown",
   "metadata": {},
   "source": [
    "Generally, We can see that there are multiple entries for a single day"
   ]
  },
  {
   "cell_type": "code",
   "execution_count": 96,
   "metadata": {},
   "outputs": [
    {
     "data": {
      "text/plain": [
       "(541, 4)"
      ]
     },
     "execution_count": 96,
     "metadata": {},
     "output_type": "execute_result"
    }
   ],
   "source": [
    "spray[spray.duplicated()].shape"
   ]
  },
  {
   "cell_type": "markdown",
   "metadata": {},
   "source": [
    "There are 541 duplicates observations, we need to investigate them throughtly to make decisions on how to handle them"
   ]
  },
  {
   "cell_type": "markdown",
   "metadata": {},
   "source": [
    "### Longitude & Latitude"
   ]
  },
  {
   "cell_type": "code",
   "execution_count": 97,
   "metadata": {},
   "outputs": [
    {
     "data": {
      "text/html": [
       "<div>\n",
       "<style scoped>\n",
       "    .dataframe tbody tr th:only-of-type {\n",
       "        vertical-align: middle;\n",
       "    }\n",
       "\n",
       "    .dataframe tbody tr th {\n",
       "        vertical-align: top;\n",
       "    }\n",
       "\n",
       "    .dataframe thead th {\n",
       "        text-align: right;\n",
       "    }\n",
       "</style>\n",
       "<table border=\"1\" class=\"dataframe\">\n",
       "  <thead>\n",
       "    <tr style=\"text-align: right;\">\n",
       "      <th></th>\n",
       "      <th>latitude</th>\n",
       "      <th>longitude</th>\n",
       "      <th>date</th>\n",
       "      <th>time</th>\n",
       "    </tr>\n",
       "  </thead>\n",
       "  <tbody>\n",
       "    <tr>\n",
       "      <th>11853</th>\n",
       "      <td>41.986460</td>\n",
       "      <td>-87.794225</td>\n",
       "      <td>541</td>\n",
       "      <td>541</td>\n",
       "    </tr>\n",
       "    <tr>\n",
       "      <th>11499</th>\n",
       "      <td>41.983917</td>\n",
       "      <td>-87.793088</td>\n",
       "      <td>2</td>\n",
       "      <td>2</td>\n",
       "    </tr>\n",
       "    <tr>\n",
       "      <th>0</th>\n",
       "      <td>41.713925</td>\n",
       "      <td>-87.615892</td>\n",
       "      <td>1</td>\n",
       "      <td>1</td>\n",
       "    </tr>\n",
       "    <tr>\n",
       "      <th>9533</th>\n",
       "      <td>41.959113</td>\n",
       "      <td>-87.719752</td>\n",
       "      <td>1</td>\n",
       "      <td>1</td>\n",
       "    </tr>\n",
       "    <tr>\n",
       "      <th>9522</th>\n",
       "      <td>41.959028</td>\n",
       "      <td>-87.728890</td>\n",
       "      <td>1</td>\n",
       "      <td>1</td>\n",
       "    </tr>\n",
       "    <tr>\n",
       "      <th>...</th>\n",
       "      <td>...</td>\n",
       "      <td>...</td>\n",
       "      <td>...</td>\n",
       "      <td>...</td>\n",
       "    </tr>\n",
       "    <tr>\n",
       "      <th>4767</th>\n",
       "      <td>41.894337</td>\n",
       "      <td>-87.714500</td>\n",
       "      <td>1</td>\n",
       "      <td>1</td>\n",
       "    </tr>\n",
       "    <tr>\n",
       "      <th>4768</th>\n",
       "      <td>41.894343</td>\n",
       "      <td>-87.760688</td>\n",
       "      <td>1</td>\n",
       "      <td>1</td>\n",
       "    </tr>\n",
       "    <tr>\n",
       "      <th>4769</th>\n",
       "      <td>41.894380</td>\n",
       "      <td>-87.772148</td>\n",
       "      <td>1</td>\n",
       "      <td>1</td>\n",
       "    </tr>\n",
       "    <tr>\n",
       "      <th>4770</th>\n",
       "      <td>41.894402</td>\n",
       "      <td>-87.704128</td>\n",
       "      <td>1</td>\n",
       "      <td>1</td>\n",
       "    </tr>\n",
       "    <tr>\n",
       "      <th>14293</th>\n",
       "      <td>42.395983</td>\n",
       "      <td>-88.095757</td>\n",
       "      <td>1</td>\n",
       "      <td>1</td>\n",
       "    </tr>\n",
       "  </tbody>\n",
       "</table>\n",
       "<p>14294 rows × 4 columns</p>\n",
       "</div>"
      ],
      "text/plain": [
       "        latitude  longitude  date  time\n",
       "11853  41.986460 -87.794225   541   541\n",
       "11499  41.983917 -87.793088     2     2\n",
       "0      41.713925 -87.615892     1     1\n",
       "9533   41.959113 -87.719752     1     1\n",
       "9522   41.959028 -87.728890     1     1\n",
       "...          ...        ...   ...   ...\n",
       "4767   41.894337 -87.714500     1     1\n",
       "4768   41.894343 -87.760688     1     1\n",
       "4769   41.894380 -87.772148     1     1\n",
       "4770   41.894402 -87.704128     1     1\n",
       "14293  42.395983 -88.095757     1     1\n",
       "\n",
       "[14294 rows x 4 columns]"
      ]
     },
     "execution_count": 97,
     "metadata": {},
     "output_type": "execute_result"
    }
   ],
   "source": [
    "spray_duplicates = spray.groupby(['latitude', 'longitude'], as_index=False).count().sort_values('date', ascending=False)\n",
    "spray_duplicates"
   ]
  },
  {
   "cell_type": "markdown",
   "metadata": {},
   "source": [
    "it seems that there is 540 duplicates and 1 duplicate (while retaining 1 original data) "
   ]
  },
  {
   "cell_type": "markdown",
   "metadata": {},
   "source": [
    "After investigating, the duplicates are suspected to be error in data entry as it makes no logical sense why there are multiple entries of the same data and time of the spray done at the same location. hence, dropping the 540 & 1 duplicates"
   ]
  },
  {
   "cell_type": "code",
   "execution_count": 98,
   "metadata": {},
   "outputs": [
    {
     "data": {
      "text/plain": [
       "(541, 4)"
      ]
     },
     "execution_count": 98,
     "metadata": {},
     "output_type": "execute_result"
    }
   ],
   "source": [
    "spray[spray.duplicated()].shape"
   ]
  },
  {
   "cell_type": "code",
   "execution_count": 99,
   "metadata": {},
   "outputs": [
    {
     "data": {
      "text/plain": [
       "(14294, 4)"
      ]
     },
     "execution_count": 99,
     "metadata": {},
     "output_type": "execute_result"
    }
   ],
   "source": [
    "# keeping one entry and removing the remaining 540 and 1 duplicate\n",
    "spray = spray[spray.duplicated(subset=['date','latitude','longitude','time'])==False]\n",
    "spray.shape"
   ]
  },
  {
   "cell_type": "code",
   "execution_count": 100,
   "metadata": {},
   "outputs": [
    {
     "data": {
      "text/plain": [
       "<matplotlib.axes._subplots.AxesSubplot at 0x12b24cd90>"
      ]
     },
     "execution_count": 100,
     "metadata": {},
     "output_type": "execute_result"
    },
    {
     "data": {
      "image/png": "[encoded data removed]",
      "text/plain": [
       "<Figure size 576x576 with 1 Axes>"
      ]
     },
     "metadata": {
      "needs_background": "light"
     },
     "output_type": "display_data"
    }
   ],
   "source": [
    "X= spray['longitude']\n",
    "y = spray['latitude']\n",
    "\n",
    "plt.figure(figsize=(8,8))\n",
    "sns.scatterplot(X,y,hue=spray['date'])"
   ]
  },
  {
   "cell_type": "markdown",
   "metadata": {},
   "source": [
    "### Time"
   ]
  },
  {
   "cell_type": "code",
   "execution_count": 101,
   "metadata": {},
   "outputs": [],
   "source": [
    "spray.drop('time', axis=1, inplace=True)"
   ]
  },
  {
   "cell_type": "markdown",
   "metadata": {},
   "source": [
    "### Date"
   ]
  },
  {
   "cell_type": "code",
   "execution_count": 102,
   "metadata": {},
   "outputs": [
    {
     "name": "stdout",
     "output_type": "stream",
     "text": [
      "['2011-08-29' '2011-09-07' '2013-07-17' '2013-07-25' '2013-08-08'\n",
      " '2013-08-15' '2013-08-16' '2013-08-22' '2013-08-29' '2013-09-05']\n"
     ]
    },
    {
     "data": {
      "text/plain": [
       "2013-08-15    2668\n",
       "2013-08-29    2302\n",
       "2013-07-17    2202\n",
       "2013-07-25    1607\n",
       "2013-08-22    1587\n",
       "2011-09-07    1573\n",
       "2013-08-08    1195\n",
       "2013-09-05     924\n",
       "2013-08-16     141\n",
       "2011-08-29      95\n",
       "Name: date, dtype: int64"
      ]
     },
     "execution_count": 102,
     "metadata": {},
     "output_type": "execute_result"
    }
   ],
   "source": [
    "print(np.unique(spray['date']))\n",
    "spray['date'].value_counts()"
   ]
  },
  {
   "cell_type": "markdown",
   "metadata": {},
   "source": [
    "Spray was done on 2 days in 2011 and 8 days in 2013"
   ]
  },
  {
   "cell_type": "code",
   "execution_count": 103,
   "metadata": {},
   "outputs": [
    {
     "data": {
      "text/plain": [
       "0        2011-08-29\n",
       "1        2011-08-29\n",
       "2        2011-08-29\n",
       "3        2011-08-29\n",
       "4        2011-08-29\n",
       "            ...    \n",
       "14830    2013-09-05\n",
       "14831    2013-09-05\n",
       "14832    2013-09-05\n",
       "14833    2013-09-05\n",
       "14834    2013-09-05\n",
       "Name: date, Length: 14294, dtype: object"
      ]
     },
     "execution_count": 103,
     "metadata": {},
     "output_type": "execute_result"
    }
   ],
   "source": [
    "spray['date']"
   ]
  },
  {
   "cell_type": "code",
   "execution_count": 104,
   "metadata": {},
   "outputs": [
    {
     "data": {
      "text/plain": [
       "0        [2011, 08, 29]\n",
       "1        [2011, 08, 29]\n",
       "2        [2011, 08, 29]\n",
       "3        [2011, 08, 29]\n",
       "4        [2011, 08, 29]\n",
       "              ...      \n",
       "14830    [2013, 09, 05]\n",
       "14831    [2013, 09, 05]\n",
       "14832    [2013, 09, 05]\n",
       "14833    [2013, 09, 05]\n",
       "14834    [2013, 09, 05]\n",
       "Name: date_split, Length: 14294, dtype: object"
      ]
     },
     "execution_count": 104,
     "metadata": {},
     "output_type": "execute_result"
    }
   ],
   "source": [
    "spray['date_split'] = spray['date'].str.split('-')\n",
    "spray['date_split']"
   ]
  },
  {
   "cell_type": "code",
   "execution_count": 105,
   "metadata": {},
   "outputs": [
    {
     "data": {
      "text/plain": [
       "0        2011\n",
       "1        2011\n",
       "2        2011\n",
       "3        2011\n",
       "4        2011\n",
       "         ... \n",
       "14830    2013\n",
       "14831    2013\n",
       "14832    2013\n",
       "14833    2013\n",
       "14834    2013\n",
       "Name: year, Length: 14294, dtype: object"
      ]
     },
     "execution_count": 105,
     "metadata": {},
     "output_type": "execute_result"
    }
   ],
   "source": [
    "spray['year'] = [y[0] for y in spray['date_split']]\n",
    "spray['year']"
   ]
  },
  {
   "cell_type": "code",
   "execution_count": 106,
   "metadata": {},
   "outputs": [
    {
     "data": {
      "text/plain": [
       "0        08\n",
       "1        08\n",
       "2        08\n",
       "3        08\n",
       "4        08\n",
       "         ..\n",
       "14830    09\n",
       "14831    09\n",
       "14832    09\n",
       "14833    09\n",
       "14834    09\n",
       "Name: month, Length: 14294, dtype: object"
      ]
     },
     "execution_count": 106,
     "metadata": {},
     "output_type": "execute_result"
    }
   ],
   "source": [
    "spray['month'] = [y[1] for y in spray['date_split']]\n",
    "spray['month']"
   ]
  },
  {
   "cell_type": "code",
   "execution_count": 107,
   "metadata": {},
   "outputs": [
    {
     "data": {
      "text/plain": [
       "0        29\n",
       "1        29\n",
       "2        29\n",
       "3        29\n",
       "4        29\n",
       "         ..\n",
       "14830    05\n",
       "14831    05\n",
       "14832    05\n",
       "14833    05\n",
       "14834    05\n",
       "Name: day, Length: 14294, dtype: object"
      ]
     },
     "execution_count": 107,
     "metadata": {},
     "output_type": "execute_result"
    }
   ],
   "source": [
    "spray['day'] = [y[2] for y in spray['date_split']]\n",
    "spray['day']"
   ]
  },
  {
   "cell_type": "code",
   "execution_count": 108,
   "metadata": {},
   "outputs": [],
   "source": [
    "spray.drop(columns = 'date_split',inplace = True)"
   ]
  },
  {
   "cell_type": "code",
   "execution_count": 109,
   "metadata": {},
   "outputs": [
    {
     "data": {
      "text/plain": [
       "Index(['date', 'latitude', 'longitude', 'year', 'month', 'day'], dtype='object')"
      ]
     },
     "execution_count": 109,
     "metadata": {},
     "output_type": "execute_result"
    }
   ],
   "source": [
    "spray.columns"
   ]
  },
  {
   "cell_type": "code",
   "execution_count": 110,
   "metadata": {},
   "outputs": [
    {
     "data": {
      "text/html": [
       "<div>\n",
       "<style scoped>\n",
       "    .dataframe tbody tr th:only-of-type {\n",
       "        vertical-align: middle;\n",
       "    }\n",
       "\n",
       "    .dataframe tbody tr th {\n",
       "        vertical-align: top;\n",
       "    }\n",
       "\n",
       "    .dataframe thead th {\n",
       "        text-align: right;\n",
       "    }\n",
       "</style>\n",
       "<table border=\"1\" class=\"dataframe\">\n",
       "  <thead>\n",
       "    <tr style=\"text-align: right;\">\n",
       "      <th></th>\n",
       "      <th>date</th>\n",
       "      <th>latitude</th>\n",
       "      <th>longitude</th>\n",
       "      <th>year</th>\n",
       "      <th>month</th>\n",
       "      <th>day</th>\n",
       "    </tr>\n",
       "  </thead>\n",
       "  <tbody>\n",
       "    <tr>\n",
       "      <th>0</th>\n",
       "      <td>2011-08-29</td>\n",
       "      <td>42.391623</td>\n",
       "      <td>-88.089163</td>\n",
       "      <td>2011</td>\n",
       "      <td>08</td>\n",
       "      <td>29</td>\n",
       "    </tr>\n",
       "    <tr>\n",
       "      <th>1</th>\n",
       "      <td>2011-08-29</td>\n",
       "      <td>42.391348</td>\n",
       "      <td>-88.089163</td>\n",
       "      <td>2011</td>\n",
       "      <td>08</td>\n",
       "      <td>29</td>\n",
       "    </tr>\n",
       "    <tr>\n",
       "      <th>2</th>\n",
       "      <td>2011-08-29</td>\n",
       "      <td>42.391022</td>\n",
       "      <td>-88.089157</td>\n",
       "      <td>2011</td>\n",
       "      <td>08</td>\n",
       "      <td>29</td>\n",
       "    </tr>\n",
       "    <tr>\n",
       "      <th>3</th>\n",
       "      <td>2011-08-29</td>\n",
       "      <td>42.390637</td>\n",
       "      <td>-88.089158</td>\n",
       "      <td>2011</td>\n",
       "      <td>08</td>\n",
       "      <td>29</td>\n",
       "    </tr>\n",
       "    <tr>\n",
       "      <th>4</th>\n",
       "      <td>2011-08-29</td>\n",
       "      <td>42.390410</td>\n",
       "      <td>-88.088858</td>\n",
       "      <td>2011</td>\n",
       "      <td>08</td>\n",
       "      <td>29</td>\n",
       "    </tr>\n",
       "  </tbody>\n",
       "</table>\n",
       "</div>"
      ],
      "text/plain": [
       "         date   latitude  longitude  year month day\n",
       "0  2011-08-29  42.391623 -88.089163  2011    08  29\n",
       "1  2011-08-29  42.391348 -88.089163  2011    08  29\n",
       "2  2011-08-29  42.391022 -88.089157  2011    08  29\n",
       "3  2011-08-29  42.390637 -88.089158  2011    08  29\n",
       "4  2011-08-29  42.390410 -88.088858  2011    08  29"
      ]
     },
     "execution_count": 110,
     "metadata": {},
     "output_type": "execute_result"
    }
   ],
   "source": [
    "spray.head()"
   ]
  },
  {
   "cell_type": "markdown",
   "metadata": {},
   "source": [
    "-------------"
   ]
  },
  {
   "cell_type": "markdown",
   "metadata": {},
   "source": [
    "# Exporting cleaned files"
   ]
  },
  {
   "cell_type": "code",
   "execution_count": 111,
   "metadata": {},
   "outputs": [],
   "source": [
    "train_get_dum.to_csv('./data/train_cleaned.csv', index=False)"
   ]
  },
  {
   "cell_type": "code",
   "execution_count": 112,
   "metadata": {},
   "outputs": [],
   "source": [
    "test_get_dum.to_csv('./data/test_cleaned.csv', index=False)"
   ]
  },
  {
   "cell_type": "code",
   "execution_count": 113,
   "metadata": {},
   "outputs": [],
   "source": [
    "spray.to_csv('./data/spray_cleaned.csv', index=False)"
   ]
  }
 ],
 "metadata": {
  "kernelspec": {
   "display_name": "Python 3",
   "language": "python",
   "name": "python3"
  },
  "language_info": {
   "codemirror_mode": {
    "name": "ipython",
    "version": 3
   },
   "file_extension": ".py",
   "mimetype": "text/x-python",
   "name": "python",
   "nbconvert_exporter": "python",
   "pygments_lexer": "ipython3",
   "version": "3.7.4"
  }
 },
 "nbformat": 4,
 "nbformat_minor": 2
}
