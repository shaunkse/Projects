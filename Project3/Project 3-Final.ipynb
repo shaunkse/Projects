{
 "cells": [
  {
   "cell_type": "markdown",
   "metadata": {},
   "source": [
    "# Project 3 - Binary Classification (Reddit)"
   ]
  },
  {
   "cell_type": "markdown",
   "metadata": {},
   "source": [
    "### business problem:\n",
    "    help people to be able to just post their stuff without thinking which specific subreddit to go to. \n",
    "    based on their post, the model will recommend the user which of his post is categorised into. "
   ]
  },
  {
   "cell_type": "markdown",
   "metadata": {},
   "source": [
    "# Importing Libraries "
   ]
  },
  {
   "cell_type": "code",
   "execution_count": 1,
   "metadata": {},
   "outputs": [],
   "source": [
    "import pandas as pd\n",
    "import numpy as np\n",
    "import regex as re\n",
    "import nltk\n",
    "import seaborn as sns\n",
    "import matplotlib.pyplot as plt\n",
    "from wordcloud import WordCloud, STOPWORDS, ImageColorGenerator\n",
    "from nltk.corpus import stopwords\n",
    "from nltk.stem import WordNetLemmatizer\n",
    "from nltk.tokenize import RegexpTokenizer \n",
    "from sklearn.feature_extraction import stop_words\n",
    "from sklearn.ensemble import RandomForestClassifier\n",
    "from sklearn.feature_extraction.text import CountVectorizer, TfidfVectorizer\n",
    "from sklearn.linear_model import LogisticRegression\n",
    "from sklearn.metrics import confusion_matrix, roc_auc_score, accuracy_score, f1_score, balanced_accuracy_score\n",
    "from sklearn.model_selection import GridSearchCV, train_test_split, cross_val_score\n",
    "from sklearn.neighbors import KNeighborsClassifier\n",
    "from sklearn.pipeline import Pipeline\n",
    "from sklearn.svm import SVC\n",
    "from sklearn.tree import DecisionTreeClassifier\n",
    "from sklearn.naive_bayes import MultinomialNB\n",
    "from sklearn.ensemble import BaggingClassifier\n",
    "from sklearn.feature_extraction import text\n",
    "from textblob import TextBlob"
   ]
  },
  {
   "cell_type": "markdown",
   "metadata": {},
   "source": [
    "# Reading the 2 compiled sub-reddit posts"
   ]
  },
  {
   "cell_type": "code",
   "execution_count": 2,
   "metadata": {},
   "outputs": [],
   "source": [
    "df1 = pd.read_csv('./Data/AITA_dd.csv')\n",
    "df2 = pd.read_csv('./Data/TIFU_dd.csv')"
   ]
  },
  {
   "cell_type": "markdown",
   "metadata": {},
   "source": [
    "# Data preparation "
   ]
  },
  {
   "cell_type": "code",
   "execution_count": 3,
   "metadata": {},
   "outputs": [],
   "source": [
    "# merge the AITA & TIFU posts\n",
    "df = pd.concat([df1,df2],axis=0)"
   ]
  },
  {
   "cell_type": "code",
   "execution_count": 4,
   "metadata": {},
   "outputs": [],
   "source": [
    "# drop unwanted columns\n",
    "df.drop(labels = ['Unnamed: 0'], axis = 1, inplace = True)\n",
    "df.reset_index(drop=True, inplace=True)"
   ]
  },
  {
   "cell_type": "code",
   "execution_count": 5,
   "metadata": {},
   "outputs": [],
   "source": [
    "df['subreddit'] = df['subreddit'].apply(lambda i : 1 if i == 'tifu' else 0)"
   ]
  },
  {
   "cell_type": "code",
   "execution_count": 6,
   "metadata": {},
   "outputs": [
    {
     "data": {
      "text/html": [
       "<div>\n",
       "<style scoped>\n",
       "    .dataframe tbody tr th:only-of-type {\n",
       "        vertical-align: middle;\n",
       "    }\n",
       "\n",
       "    .dataframe tbody tr th {\n",
       "        vertical-align: top;\n",
       "    }\n",
       "\n",
       "    .dataframe thead th {\n",
       "        text-align: right;\n",
       "    }\n",
       "</style>\n",
       "<table border=\"1\" class=\"dataframe\">\n",
       "  <thead>\n",
       "    <tr style=\"text-align: right;\">\n",
       "      <th></th>\n",
       "      <th>subreddit</th>\n",
       "      <th>selftext</th>\n",
       "      <th>title</th>\n",
       "    </tr>\n",
       "  </thead>\n",
       "  <tbody>\n",
       "    <tr>\n",
       "      <th>0</th>\n",
       "      <td>0</td>\n",
       "      <td>Hello everyone! We’re starting this new year o...</td>\n",
       "      <td>IMPORTANT: Rule Changes. /r/AITAFiltered. MUST...</td>\n",
       "    </tr>\n",
       "    <tr>\n",
       "      <th>1</th>\n",
       "      <td>0</td>\n",
       "      <td>Hey everyone! As many of you know, we have bee...</td>\n",
       "      <td>[META] AITA Best of 2019 Awards RESULTS!</td>\n",
       "    </tr>\n",
       "    <tr>\n",
       "      <th>2</th>\n",
       "      <td>0</td>\n",
       "      <td>Original post: https://www.reddit.com/r/AmIthe...</td>\n",
       "      <td>UPDATE: AITA for letting my brother call me \"d...</td>\n",
       "    </tr>\n",
       "    <tr>\n",
       "      <th>3</th>\n",
       "      <td>0</td>\n",
       "      <td>After discussing the idea of having my adult s...</td>\n",
       "      <td>AITA for telling my therapist to F off?</td>\n",
       "    </tr>\n",
       "    <tr>\n",
       "      <th>4</th>\n",
       "      <td>0</td>\n",
       "      <td>I realize this title makes me sound like a com...</td>\n",
       "      <td>WIBTA for banning an autistic child from my we...</td>\n",
       "    </tr>\n",
       "    <tr>\n",
       "      <th>...</th>\n",
       "      <td>...</td>\n",
       "      <td>...</td>\n",
       "      <td>...</td>\n",
       "    </tr>\n",
       "    <tr>\n",
       "      <th>1415</th>\n",
       "      <td>1</td>\n",
       "      <td>Needless to say, this is a throwaway account.\\...</td>\n",
       "      <td>TIFU by leaving my zipper open, exposing sexy ...</td>\n",
       "    </tr>\n",
       "    <tr>\n",
       "      <th>1416</th>\n",
       "      <td>1</td>\n",
       "      <td>The obligatory this happened a few years back ...</td>\n",
       "      <td>TIFU by mixing up the phonetic alphabet</td>\n",
       "    </tr>\n",
       "    <tr>\n",
       "      <th>1417</th>\n",
       "      <td>1</td>\n",
       "      <td>That's the gist. I needed to do a powerpoint f...</td>\n",
       "      <td>TIFU by submitting an assignment with my frien...</td>\n",
       "    </tr>\n",
       "    <tr>\n",
       "      <th>1418</th>\n",
       "      <td>1</td>\n",
       "      <td>Obligatory: This didn’t happen today, rather 1...</td>\n",
       "      <td>TIFU by watching $800 worth of porn</td>\n",
       "    </tr>\n",
       "    <tr>\n",
       "      <th>1419</th>\n",
       "      <td>1</td>\n",
       "      <td>So this FU stems back a few months, also throw...</td>\n",
       "      <td>TIFU by using my wife’s towel.</td>\n",
       "    </tr>\n",
       "  </tbody>\n",
       "</table>\n",
       "<p>1420 rows × 3 columns</p>\n",
       "</div>"
      ],
      "text/plain": [
       "      subreddit                                           selftext  \\\n",
       "0             0  Hello everyone! We’re starting this new year o...   \n",
       "1             0  Hey everyone! As many of you know, we have bee...   \n",
       "2             0  Original post: https://www.reddit.com/r/AmIthe...   \n",
       "3             0  After discussing the idea of having my adult s...   \n",
       "4             0  I realize this title makes me sound like a com...   \n",
       "...         ...                                                ...   \n",
       "1415          1  Needless to say, this is a throwaway account.\\...   \n",
       "1416          1  The obligatory this happened a few years back ...   \n",
       "1417          1  That's the gist. I needed to do a powerpoint f...   \n",
       "1418          1  Obligatory: This didn’t happen today, rather 1...   \n",
       "1419          1  So this FU stems back a few months, also throw...   \n",
       "\n",
       "                                                  title  \n",
       "0     IMPORTANT: Rule Changes. /r/AITAFiltered. MUST...  \n",
       "1              [META] AITA Best of 2019 Awards RESULTS!  \n",
       "2     UPDATE: AITA for letting my brother call me \"d...  \n",
       "3               AITA for telling my therapist to F off?  \n",
       "4     WIBTA for banning an autistic child from my we...  \n",
       "...                                                 ...  \n",
       "1415  TIFU by leaving my zipper open, exposing sexy ...  \n",
       "1416            TIFU by mixing up the phonetic alphabet  \n",
       "1417  TIFU by submitting an assignment with my frien...  \n",
       "1418                TIFU by watching $800 worth of porn  \n",
       "1419                     TIFU by using my wife’s towel.  \n",
       "\n",
       "[1420 rows x 3 columns]"
      ]
     },
     "execution_count": 6,
     "metadata": {},
     "output_type": "execute_result"
    }
   ],
   "source": [
    "df"
   ]
  },
  {
   "cell_type": "markdown",
   "metadata": {},
   "source": [
    "# Data Cleaning: Checking and removing null values"
   ]
  },
  {
   "cell_type": "code",
   "execution_count": 7,
   "metadata": {},
   "outputs": [
    {
     "data": {
      "text/plain": [
       "subreddit    0\n",
       "selftext     1\n",
       "title        0\n",
       "dtype: int64"
      ]
     },
     "execution_count": 7,
     "metadata": {},
     "output_type": "execute_result"
    }
   ],
   "source": [
    "df.isnull().sum()"
   ]
  },
  {
   "cell_type": "code",
   "execution_count": 8,
   "metadata": {},
   "outputs": [],
   "source": [
    "df['text_features'] = df['selftext'] + df['title']"
   ]
  },
  {
   "cell_type": "code",
   "execution_count": 9,
   "metadata": {},
   "outputs": [
    {
     "data": {
      "text/plain": [
       "subreddit        0\n",
       "selftext         1\n",
       "title            0\n",
       "text_features    1\n",
       "dtype: int64"
      ]
     },
     "execution_count": 9,
     "metadata": {},
     "output_type": "execute_result"
    }
   ],
   "source": [
    "df.isnull().sum()"
   ]
  },
  {
   "cell_type": "code",
   "execution_count": 10,
   "metadata": {},
   "outputs": [],
   "source": [
    "df.dropna(inplace=True)"
   ]
  },
  {
   "cell_type": "code",
   "execution_count": 11,
   "metadata": {},
   "outputs": [
    {
     "data": {
      "text/plain": [
       "subreddit        0\n",
       "selftext         0\n",
       "title            0\n",
       "text_features    0\n",
       "dtype: int64"
      ]
     },
     "execution_count": 11,
     "metadata": {},
     "output_type": "execute_result"
    }
   ],
   "source": [
    "df.isnull().sum()"
   ]
  },
  {
   "cell_type": "markdown",
   "metadata": {},
   "source": [
    "# Visualizing the most occuring word in TIFU & AITA"
   ]
  },
  {
   "cell_type": "code",
   "execution_count": 12,
   "metadata": {},
   "outputs": [
    {
     "data": {
      "image/png": "[encoded data removed]",
      "text/plain": [
       "<Figure size 432x288 with 1 Axes>"
      ]
     },
     "metadata": {
      "needs_background": "light"
     },
     "output_type": "display_data"
    }
   ],
   "source": [
    "#AITA\n",
    "# Join all text\n",
    "AITA = \" \".join(review for review in df[df['subreddit'] == 0]['selftext'])\n",
    "\n",
    "# Create and generate a word cloud image:\n",
    "wordcloud_AITA = WordCloud(collocations = False, background_color = 'white', max_words=150).generate(AITA)\n",
    "\n",
    "# Display the generated image:\n",
    "plt.imshow(wordcloud_AITA, interpolation = 'bilinear',aspect ='auto')\n",
    "plt.axis('off')\n",
    "\n",
    "# Store to file\n",
    "plt.savefig('./Data/AITA_word_cloud.png',format='png')\n",
    "plt.show()"
   ]
  },
  {
   "cell_type": "code",
   "execution_count": 13,
   "metadata": {},
   "outputs": [
    {
     "data": {
      "image/png": "[encoded data removed]",
      "text/plain": [
       "<Figure size 432x288 with 1 Axes>"
      ]
     },
     "metadata": {
      "needs_background": "light"
     },
     "output_type": "display_data"
    }
   ],
   "source": [
    "#TIFU\n",
    "# Join all text\n",
    "TIFU = \" \".join(review for review in df[df['subreddit'] == 1]['selftext'])\n",
    "\n",
    "# Create and generate a word cloud image:\n",
    "wordcloud_TIFU = WordCloud(collocations = False, background_color = 'white', max_words=150).generate(TIFU)\n",
    "\n",
    "# Display the generated image:\n",
    "plt.imshow(wordcloud_TIFU, interpolation = 'bilinear',aspect ='auto')\n",
    "plt.axis('off')\n",
    "\n",
    "# Store to file\n",
    "plt.savefig('./Data/TIFU_word_cloud.png',format='png')\n",
    "plt.show()"
   ]
  },
  {
   "cell_type": "markdown",
   "metadata": {},
   "source": [
    "# Train-Test Split of Data"
   ]
  },
  {
   "cell_type": "code",
   "execution_count": 14,
   "metadata": {},
   "outputs": [
    {
     "data": {
      "text/html": [
       "<div>\n",
       "<style scoped>\n",
       "    .dataframe tbody tr th:only-of-type {\n",
       "        vertical-align: middle;\n",
       "    }\n",
       "\n",
       "    .dataframe tbody tr th {\n",
       "        vertical-align: top;\n",
       "    }\n",
       "\n",
       "    .dataframe thead th {\n",
       "        text-align: right;\n",
       "    }\n",
       "</style>\n",
       "<table border=\"1\" class=\"dataframe\">\n",
       "  <thead>\n",
       "    <tr style=\"text-align: right;\">\n",
       "      <th></th>\n",
       "      <th>subreddit</th>\n",
       "      <th>selftext</th>\n",
       "      <th>title</th>\n",
       "      <th>text_features</th>\n",
       "    </tr>\n",
       "  </thead>\n",
       "  <tbody>\n",
       "    <tr>\n",
       "      <th>0</th>\n",
       "      <td>0</td>\n",
       "      <td>Hello everyone! We’re starting this new year o...</td>\n",
       "      <td>IMPORTANT: Rule Changes. /r/AITAFiltered. MUST...</td>\n",
       "      <td>Hello everyone! We’re starting this new year o...</td>\n",
       "    </tr>\n",
       "    <tr>\n",
       "      <th>1</th>\n",
       "      <td>0</td>\n",
       "      <td>Hey everyone! As many of you know, we have bee...</td>\n",
       "      <td>[META] AITA Best of 2019 Awards RESULTS!</td>\n",
       "      <td>Hey everyone! As many of you know, we have bee...</td>\n",
       "    </tr>\n",
       "    <tr>\n",
       "      <th>2</th>\n",
       "      <td>0</td>\n",
       "      <td>Original post: https://www.reddit.com/r/AmIthe...</td>\n",
       "      <td>UPDATE: AITA for letting my brother call me \"d...</td>\n",
       "      <td>Original post: https://www.reddit.com/r/AmIthe...</td>\n",
       "    </tr>\n",
       "    <tr>\n",
       "      <th>3</th>\n",
       "      <td>0</td>\n",
       "      <td>After discussing the idea of having my adult s...</td>\n",
       "      <td>AITA for telling my therapist to F off?</td>\n",
       "      <td>After discussing the idea of having my adult s...</td>\n",
       "    </tr>\n",
       "    <tr>\n",
       "      <th>4</th>\n",
       "      <td>0</td>\n",
       "      <td>I realize this title makes me sound like a com...</td>\n",
       "      <td>WIBTA for banning an autistic child from my we...</td>\n",
       "      <td>I realize this title makes me sound like a com...</td>\n",
       "    </tr>\n",
       "  </tbody>\n",
       "</table>\n",
       "</div>"
      ],
      "text/plain": [
       "   subreddit                                           selftext  \\\n",
       "0          0  Hello everyone! We’re starting this new year o...   \n",
       "1          0  Hey everyone! As many of you know, we have bee...   \n",
       "2          0  Original post: https://www.reddit.com/r/AmIthe...   \n",
       "3          0  After discussing the idea of having my adult s...   \n",
       "4          0  I realize this title makes me sound like a com...   \n",
       "\n",
       "                                               title  \\\n",
       "0  IMPORTANT: Rule Changes. /r/AITAFiltered. MUST...   \n",
       "1           [META] AITA Best of 2019 Awards RESULTS!   \n",
       "2  UPDATE: AITA for letting my brother call me \"d...   \n",
       "3            AITA for telling my therapist to F off?   \n",
       "4  WIBTA for banning an autistic child from my we...   \n",
       "\n",
       "                                       text_features  \n",
       "0  Hello everyone! We’re starting this new year o...  \n",
       "1  Hey everyone! As many of you know, we have bee...  \n",
       "2  Original post: https://www.reddit.com/r/AmIthe...  \n",
       "3  After discussing the idea of having my adult s...  \n",
       "4  I realize this title makes me sound like a com...  "
      ]
     },
     "execution_count": 14,
     "metadata": {},
     "output_type": "execute_result"
    }
   ],
   "source": [
    "df.head()"
   ]
  },
  {
   "cell_type": "code",
   "execution_count": 15,
   "metadata": {},
   "outputs": [],
   "source": [
    "X = df['text_features']\n",
    "y = df['subreddit']"
   ]
  },
  {
   "cell_type": "code",
   "execution_count": 16,
   "metadata": {},
   "outputs": [
    {
     "data": {
      "text/plain": [
       "0    0.574348\n",
       "1    0.425652\n",
       "Name: subreddit, dtype: float64"
      ]
     },
     "execution_count": 16,
     "metadata": {},
     "output_type": "execute_result"
    }
   ],
   "source": [
    "# Base Accuracy reference\n",
    "pd.value_counts(y,normalize = True)"
   ]
  },
  {
   "cell_type": "code",
   "execution_count": 17,
   "metadata": {},
   "outputs": [],
   "source": [
    "X_train, X_test, y_train, y_test = train_test_split(X,\n",
    "                                                    y,\n",
    "                                                    test_size=0.25,\n",
    "                                                    random_state=42,\n",
    "                                                    stratify=y)"
   ]
  },
  {
   "cell_type": "code",
   "execution_count": 18,
   "metadata": {},
   "outputs": [
    {
     "data": {
      "text/plain": [
       "(1064,)"
      ]
     },
     "execution_count": 18,
     "metadata": {},
     "output_type": "execute_result"
    }
   ],
   "source": [
    "X_train.shape"
   ]
  },
  {
   "cell_type": "code",
   "execution_count": 19,
   "metadata": {},
   "outputs": [
    {
     "data": {
      "text/plain": [
       "(1064,)"
      ]
     },
     "execution_count": 19,
     "metadata": {},
     "output_type": "execute_result"
    }
   ],
   "source": [
    "y_train.shape"
   ]
  },
  {
   "cell_type": "markdown",
   "metadata": {},
   "source": [
    "# Data Cleaning: Handling Stop-Words with TextBlob"
   ]
  },
  {
   "cell_type": "code",
   "execution_count": 20,
   "metadata": {},
   "outputs": [],
   "source": [
    "# Use TextBlob\n",
    "def textblob_tokenizer(str_input):\n",
    "    blob = TextBlob(str_input.lower())\n",
    "    tokens = blob.words\n",
    "    words = [token.lemmatize() for token in tokens]\n",
    "    return words"
   ]
  },
  {
   "cell_type": "code",
   "execution_count": 21,
   "metadata": {},
   "outputs": [],
   "source": [
    "#Tokenize & lemmatize stop word\n",
    "sets=[text.ENGLISH_STOP_WORDS]\n",
    "stop_words = [list(x) for x in sets]\n",
    "sw = [textblob_tokenizer(i) for i in stop_words[0]]"
   ]
  },
  {
   "cell_type": "code",
   "execution_count": 65,
   "metadata": {},
   "outputs": [],
   "source": [
    "# making tokenize stop word into a list\n",
    "sw1=[]\n",
    "for i in sw:\n",
    "    for j in i:\n",
    "        sw1.append(j)\n",
    "        \n",
    "words = ['TIFU','tifu','AITA','aita','s']        \n",
    "sw1.extend(words)"
   ]
  },
  {
   "cell_type": "markdown",
   "metadata": {},
   "source": [
    "# 1) Grid-Search for Logistic Regression using pipeline & Cross Validation"
   ]
  },
  {
   "cell_type": "markdown",
   "metadata": {},
   "source": [
    "## 1a) Using CountVectorizer"
   ]
  },
  {
   "cell_type": "code",
   "execution_count": 23,
   "metadata": {},
   "outputs": [],
   "source": [
    "pipe_lr = Pipeline([(  'cvec', CountVectorizer(stop_words = sw1,tokenizer=textblob_tokenizer )  ),\n",
    "                    (  'lr', LogisticRegression(solver='liblinear')  )])"
   ]
  },
  {
   "cell_type": "code",
   "execution_count": 24,
   "metadata": {
    "scrolled": true
   },
   "outputs": [
    {
     "name": "stdout",
     "output_type": "stream",
     "text": [
      "Fitting 3 folds for each of 48 candidates, totalling 144 fits\n"
     ]
    },
    {
     "name": "stderr",
     "output_type": "stream",
     "text": [
      "[Parallel(n_jobs=1)]: Using backend SequentialBackend with 1 concurrent workers.\n",
      "[Parallel(n_jobs=1)]: Done 144 out of 144 | elapsed: 14.9min finished\n"
     ]
    },
    {
     "name": "stdout",
     "output_type": "stream",
     "text": [
      "0.9558270676691729\n"
     ]
    },
    {
     "data": {
      "text/plain": [
       "{'cvec__max_df': 0.99,\n",
       " 'cvec__max_features': 600,\n",
       " 'cvec__min_df': 5,\n",
       " 'cvec__ngram_range': (1, 2),\n",
       " 'lr__penalty': 'l1'}"
      ]
     },
     "execution_count": 24,
     "metadata": {},
     "output_type": "execute_result"
    }
   ],
   "source": [
    "pipe_params_lr = {'cvec__max_features': [300,500,600],\n",
    "                  'cvec__min_df' : [3,5],\n",
    "                  'cvec__max_df' : [0.9,0.99],\n",
    "                  'cvec__ngram_range': [(1,1), (1,2)],\n",
    "                  'lr__penalty': ['l1','l2']\n",
    "                 }\n",
    "gs_lr = GridSearchCV(pipe_lr, param_grid=pipe_params_lr, verbose=1, cv=3)\n",
    "gs_lr.fit(X_train, y_train)\n",
    "print(gs_lr.best_score_)\n",
    "gs_lr.best_params_"
   ]
  },
  {
   "cell_type": "code",
   "execution_count": 25,
   "metadata": {},
   "outputs": [
    {
     "data": {
      "text/plain": [
       "1.0"
      ]
     },
     "execution_count": 25,
     "metadata": {},
     "output_type": "execute_result"
    }
   ],
   "source": [
    "gs_lr.score(X_train, y_train)"
   ]
  },
  {
   "cell_type": "code",
   "execution_count": 26,
   "metadata": {},
   "outputs": [
    {
     "data": {
      "text/plain": [
       "0.9577464788732394"
      ]
     },
     "execution_count": 26,
     "metadata": {},
     "output_type": "execute_result"
    }
   ],
   "source": [
    "gs_lr.score(X_test, y_test)"
   ]
  },
  {
   "cell_type": "markdown",
   "metadata": {},
   "source": [
    "#### 1a) Transforming and fitting the logistic model with best parameters"
   ]
  },
  {
   "cell_type": "code",
   "execution_count": 95,
   "metadata": {},
   "outputs": [],
   "source": [
    "cvec = CountVectorizer(stop_words = sw1,tokenizer=textblob_tokenizer, max_df = 0.99,\n",
    "                max_features = 600,min_df=5,ngram_range =(1, 2))"
   ]
  },
  {
   "cell_type": "code",
   "execution_count": 96,
   "metadata": {},
   "outputs": [],
   "source": [
    "cvec.fit(X_train)\n",
    "X_train_CV = cvec.transform(X_train)\n",
    "X_test_CV = cvec.transform(X_test)"
   ]
  },
  {
   "cell_type": "code",
   "execution_count": 97,
   "metadata": {},
   "outputs": [
    {
     "name": "stdout",
     "output_type": "stream",
     "text": [
      "accuracy score 0.9577464788732394\n"
     ]
    }
   ],
   "source": [
    "# Fitting in the Logistic Regression model with best params \n",
    "CV_lr = LogisticRegression(solver='liblinear',penalty = 'l1')\n",
    "CV_lr.fit(X_train_CV,y_train)\n",
    "y_pred = CV_lr.predict(X_test_CV)\n",
    "lr_c = accuracy_score(y_test,y_pred)\n",
    "print('accuracy score',lr_c)"
   ]
  },
  {
   "cell_type": "markdown",
   "metadata": {},
   "source": [
    "## 1b) Using Term Frequency-Inverse Document Frequency (TF-IDF) Vectorizer"
   ]
  },
  {
   "cell_type": "code",
   "execution_count": 30,
   "metadata": {},
   "outputs": [],
   "source": [
    "pipe_lr = Pipeline([(  'tvec', TfidfVectorizer(stop_words = sw1,tokenizer=textblob_tokenizer )  ),\n",
    "                    (  'lr', LogisticRegression(solver='liblinear')  )])"
   ]
  },
  {
   "cell_type": "code",
   "execution_count": 31,
   "metadata": {},
   "outputs": [
    {
     "name": "stdout",
     "output_type": "stream",
     "text": [
      "Fitting 3 folds for each of 48 candidates, totalling 144 fits\n"
     ]
    },
    {
     "name": "stderr",
     "output_type": "stream",
     "text": [
      "[Parallel(n_jobs=1)]: Using backend SequentialBackend with 1 concurrent workers.\n",
      "[Parallel(n_jobs=1)]: Done 144 out of 144 | elapsed: 15.2min finished\n"
     ]
    },
    {
     "name": "stdout",
     "output_type": "stream",
     "text": [
      "0.9426691729323309\n"
     ]
    },
    {
     "data": {
      "text/plain": [
       "{'lr__penalty': 'l1',\n",
       " 'tvec__max_df': 0.9,\n",
       " 'tvec__max_features': 300,\n",
       " 'tvec__min_df': 3,\n",
       " 'tvec__ngram_range': (1, 1)}"
      ]
     },
     "execution_count": 31,
     "metadata": {},
     "output_type": "execute_result"
    }
   ],
   "source": [
    "pipe_params_lr = {'tvec__max_features': [300,500,600],\n",
    "                  'tvec__min_df' : [3,5],\n",
    "                  'tvec__max_df' : [0.9,0.99],\n",
    "                  'tvec__ngram_range': [(1,1), (1,2)],\n",
    "                  'lr__penalty': ['l1','l2']\n",
    "                 }\n",
    "gs_lr = GridSearchCV(pipe_lr, param_grid=pipe_params_lr, verbose=1, cv=3)\n",
    "gs_lr.fit(X_train, y_train)\n",
    "print(gs_lr.best_score_)\n",
    "gs_lr.best_params_"
   ]
  },
  {
   "cell_type": "markdown",
   "metadata": {},
   "source": [
    "#### 1b) Transforming and fitting the logistic model with best parameters"
   ]
  },
  {
   "cell_type": "code",
   "execution_count": 69,
   "metadata": {},
   "outputs": [],
   "source": [
    "tvec = TfidfVectorizer(stop_words = sw1,tokenizer=textblob_tokenizer,\n",
    "                       max_df = 0.9 ,max_features = 300 ,min_df= 3 ,ngram_range =(1,1))"
   ]
  },
  {
   "cell_type": "code",
   "execution_count": 70,
   "metadata": {},
   "outputs": [],
   "source": [
    "tvec.fit(X_train)\n",
    "X_train_TV = tvec.transform(X_train)\n",
    "X_test_TV = tvec.transform(X_test)"
   ]
  },
  {
   "cell_type": "code",
   "execution_count": 71,
   "metadata": {},
   "outputs": [
    {
     "name": "stdout",
     "output_type": "stream",
     "text": [
      "accuracy score 0.9549295774647887\n"
     ]
    }
   ],
   "source": [
    "# Fitting in the Logistic Regression model with best params \n",
    "TV_lr = LogisticRegression(solver='liblinear',penalty = 'l1')\n",
    "TV_lr.fit(X_train_TV,y_train)\n",
    "y_pred = TV_lr.predict(X_test_TV)\n",
    "lr_t = accuracy_score(y_test,y_pred)\n",
    "print('accuracy score',lr_t)"
   ]
  },
  {
   "cell_type": "markdown",
   "metadata": {},
   "source": [
    "#### Getting the words that are being classified into the respective sub-reddits. 0 = AITA, 1 = TIFU"
   ]
  },
  {
   "cell_type": "code",
   "execution_count": 72,
   "metadata": {},
   "outputs": [
    {
     "data": {
      "text/plain": [
       "Text(0.5, 1.0, 'top 15 key-tokens in AITA & TIFU Sub-reddit post ')"
      ]
     },
     "execution_count": 72,
     "metadata": {},
     "output_type": "execute_result"
    },
    {
     "data": {
      "image/png": "[encoded data removed]",
      "text/plain": [
       "<Figure size 1440x720 with 1 Axes>"
      ]
     },
     "metadata": {
      "needs_background": "light"
     },
     "output_type": "display_data"
    }
   ],
   "source": [
    "lr_coef = pd.DataFrame(CV_lr.coef_,columns = columns)\n",
    "df_coef = lr_coef.T.sort_values(by = 0, ascending = False)\n",
    "\n",
    "top_coef = pd.concat([df_coef.head(15),\n",
    "                      df_coef.tail(15)])\n",
    "plt.rcParams['figure.figsize'] = (20.0, 10.0)\n",
    "top_coef.plot(kind = \"barh\", legend = False)\n",
    "plt.title(\"top 15 key-tokens in AITA & TIFU Sub-reddit post \")"
   ]
  },
  {
   "cell_type": "markdown",
   "metadata": {},
   "source": [
    "# 2) Grid-Search for Multinomial (Bayes) using pipeline & Cross Validation"
   ]
  },
  {
   "cell_type": "markdown",
   "metadata": {},
   "source": [
    "## 2a) Using CountVectorizer"
   ]
  },
  {
   "cell_type": "code",
   "execution_count": 57,
   "metadata": {},
   "outputs": [],
   "source": [
    "pipe_nb = Pipeline([(  'cvec', CountVectorizer(stop_words = sw1,tokenizer=textblob_tokenizer)  ),\n",
    "                    (  'nb', MultinomialNB()  )])"
   ]
  },
  {
   "cell_type": "code",
   "execution_count": 58,
   "metadata": {},
   "outputs": [
    {
     "name": "stdout",
     "output_type": "stream",
     "text": [
      "Fitting 3 folds for each of 24 candidates, totalling 72 fits\n"
     ]
    },
    {
     "name": "stderr",
     "output_type": "stream",
     "text": [
      "[Parallel(n_jobs=1)]: Using backend SequentialBackend with 1 concurrent workers.\n",
      "[Parallel(n_jobs=1)]: Done  72 out of  72 | elapsed:  7.5min finished\n"
     ]
    },
    {
     "name": "stdout",
     "output_type": "stream",
     "text": [
      "0.8853383458646616\n"
     ]
    },
    {
     "data": {
      "text/plain": [
       "{'cvec__max_df': 0.9,\n",
       " 'cvec__max_features': 600,\n",
       " 'cvec__min_df': 3,\n",
       " 'cvec__ngram_range': (1, 1)}"
      ]
     },
     "execution_count": 58,
     "metadata": {},
     "output_type": "execute_result"
    }
   ],
   "source": [
    "pipe_params_nb = {'cvec__max_features': [300,500,600],\n",
    "                  'cvec__min_df' : [3,5],\n",
    "                  'cvec__max_df' : [0.9,0.99],\n",
    "                  'cvec__ngram_range': [(1,1), (1,2)],\n",
    "                 }\n",
    "gs_nb = GridSearchCV(pipe_nb, param_grid=pipe_params_nb, verbose=1, cv=3)\n",
    "gs_nb.fit(X_train, y_train)\n",
    "print(gs_nb.best_score_)\n",
    "gs_nb.best_params_"
   ]
  },
  {
   "cell_type": "code",
   "execution_count": 59,
   "metadata": {},
   "outputs": [
    {
     "data": {
      "text/plain": [
       "0.9135338345864662"
      ]
     },
     "execution_count": 59,
     "metadata": {},
     "output_type": "execute_result"
    }
   ],
   "source": [
    "gs_nb.score(X_train, y_train)"
   ]
  },
  {
   "cell_type": "code",
   "execution_count": 60,
   "metadata": {},
   "outputs": [
    {
     "data": {
      "text/plain": [
       "0.8873239436619719"
      ]
     },
     "execution_count": 60,
     "metadata": {},
     "output_type": "execute_result"
    }
   ],
   "source": [
    "gs_nb.score(X_test, y_test)"
   ]
  },
  {
   "cell_type": "markdown",
   "metadata": {},
   "source": [
    "#### 2a) Transforming and fitting the mulltinomial model with best parameters"
   ]
  },
  {
   "cell_type": "code",
   "execution_count": 73,
   "metadata": {},
   "outputs": [],
   "source": [
    "cvec = CountVectorizer(stop_words = sw1,tokenizer=textblob_tokenizer, max_df = 0.9,\n",
    "                max_features = 600,min_df=3,ngram_range =(1, 1))"
   ]
  },
  {
   "cell_type": "code",
   "execution_count": 74,
   "metadata": {},
   "outputs": [],
   "source": [
    "cvec.fit(X_train)\n",
    "X_train_CV = cvec.transform(X_train)\n",
    "X_test_CV = cvec.transform(X_test)"
   ]
  },
  {
   "cell_type": "code",
   "execution_count": 75,
   "metadata": {},
   "outputs": [
    {
     "name": "stdout",
     "output_type": "stream",
     "text": [
      "accuracy score 0.9042253521126761\n"
     ]
    }
   ],
   "source": [
    "# Fitting in the Multinomial model with best params \n",
    "nb = MultinomialNB()\n",
    "nb.fit(X_train_CV,y_train)\n",
    "y_pred = nb.predict(X_test_CV)\n",
    "nb_c = accuracy_score(y_test,y_pred)\n",
    "print('accuracy score',nb_c)"
   ]
  },
  {
   "cell_type": "markdown",
   "metadata": {},
   "source": [
    "## 2b) Using Term Frequency-Inverse Document Frequency (TF-IDF) Vectorizer"
   ]
  },
  {
   "cell_type": "code",
   "execution_count": 76,
   "metadata": {},
   "outputs": [],
   "source": [
    "pipe_lr = Pipeline([(  'tvec', TfidfVectorizer(stop_words = sw1,tokenizer=textblob_tokenizer )  ),\n",
    "                    (  'nb', MultinomialNB()  )])"
   ]
  },
  {
   "cell_type": "code",
   "execution_count": 77,
   "metadata": {},
   "outputs": [
    {
     "name": "stdout",
     "output_type": "stream",
     "text": [
      "Fitting 3 folds for each of 24 candidates, totalling 72 fits\n"
     ]
    },
    {
     "name": "stderr",
     "output_type": "stream",
     "text": [
      "[Parallel(n_jobs=1)]: Using backend SequentialBackend with 1 concurrent workers.\n",
      "[Parallel(n_jobs=1)]: Done  72 out of  72 | elapsed:  7.6min finished\n"
     ]
    },
    {
     "name": "stdout",
     "output_type": "stream",
     "text": [
      "0.8881578947368421\n"
     ]
    },
    {
     "data": {
      "text/plain": [
       "{'tvec__max_df': 0.9,\n",
       " 'tvec__max_features': 600,\n",
       " 'tvec__min_df': 3,\n",
       " 'tvec__ngram_range': (1, 2)}"
      ]
     },
     "execution_count": 77,
     "metadata": {},
     "output_type": "execute_result"
    }
   ],
   "source": [
    "pipe_params_lr = {'tvec__max_features': [300,500,600],\n",
    "                  'tvec__min_df' : [3,5],\n",
    "                  'tvec__max_df' : [0.9,0.99],\n",
    "                  'tvec__ngram_range': [(1,1), (1,2)],\n",
    "                 }\n",
    "gs_lr = GridSearchCV(pipe_lr, param_grid=pipe_params_lr, verbose=1, cv=3)\n",
    "gs_lr.fit(X_train, y_train)\n",
    "print(gs_lr.best_score_)\n",
    "gs_lr.best_params_"
   ]
  },
  {
   "cell_type": "markdown",
   "metadata": {},
   "source": [
    "#### 2b) Transforming and fitting the multinomial model with best parameters"
   ]
  },
  {
   "cell_type": "code",
   "execution_count": 78,
   "metadata": {},
   "outputs": [],
   "source": [
    "tvec = TfidfVectorizer(stop_words = sw1,tokenizer=textblob_tokenizer,\n",
    "                       max_df = 0.9 ,max_features = 600 ,min_df= 3 ,ngram_range =(1,2))"
   ]
  },
  {
   "cell_type": "code",
   "execution_count": 79,
   "metadata": {},
   "outputs": [],
   "source": [
    "tvec.fit(X_train)\n",
    "X_train_TV = tvec.transform(X_train)\n",
    "X_test_TV = tvec.transform(X_test)"
   ]
  },
  {
   "cell_type": "code",
   "execution_count": 80,
   "metadata": {},
   "outputs": [
    {
     "name": "stdout",
     "output_type": "stream",
     "text": [
      "accuracy score 0.8816901408450705\n"
     ]
    }
   ],
   "source": [
    "# Fitting in the Multinomial model with best params \n",
    "nb = MultinomialNB()\n",
    "nb.fit(X_train_TV,y_train)\n",
    "y_pred = nb.predict(X_test_TV)\n",
    "nb_t = accuracy_score(y_test,y_pred)\n",
    "print('accuracy score',nb_t)"
   ]
  },
  {
   "cell_type": "markdown",
   "metadata": {},
   "source": [
    "# 3) Grid-Search for Random Forest using pipeline & Cross Validation"
   ]
  },
  {
   "cell_type": "markdown",
   "metadata": {},
   "source": [
    "## 3a) Using CountVectorizer"
   ]
  },
  {
   "cell_type": "code",
   "execution_count": 82,
   "metadata": {},
   "outputs": [],
   "source": [
    "pipe_rf = Pipeline([(  'cvec', CountVectorizer(stop_words = sw1,tokenizer=textblob_tokenizer)  ),\n",
    "                    (  'rf', RandomForestClassifier(n_estimators=100)  )])"
   ]
  },
  {
   "cell_type": "code",
   "execution_count": 83,
   "metadata": {
    "scrolled": true
   },
   "outputs": [
    {
     "name": "stdout",
     "output_type": "stream",
     "text": [
      "Fitting 3 folds for each of 288 candidates, totalling 864 fits\n"
     ]
    },
    {
     "name": "stderr",
     "output_type": "stream",
     "text": [
      "[Parallel(n_jobs=1)]: Using backend SequentialBackend with 1 concurrent workers.\n",
      "[Parallel(n_jobs=1)]: Done 864 out of 864 | elapsed: 93.8min finished\n"
     ]
    },
    {
     "name": "stdout",
     "output_type": "stream",
     "text": [
      "0.9342105263157895\n"
     ]
    },
    {
     "data": {
      "text/plain": [
       "{'cvec__max_df': 0.99,\n",
       " 'cvec__max_features': 300,\n",
       " 'cvec__min_df': 5,\n",
       " 'cvec__ngram_range': (1, 1),\n",
       " 'rf__max_depth': None,\n",
       " 'rf__max_features': 2,\n",
       " 'rf__n_estimators': 200}"
      ]
     },
     "execution_count": 83,
     "metadata": {},
     "output_type": "execute_result"
    }
   ],
   "source": [
    "pipe_params_rf = {'cvec__max_features': [300,500,600],\n",
    "                  'cvec__min_df' : [3,5],\n",
    "                  'cvec__max_df' : [0.9,0.99],\n",
    "                  'cvec__ngram_range': [(1,1), (1,2)],\n",
    "                  'rf__n_estimators': [100, 200],\n",
    "                  'rf__max_depth': [None, 1, 2],\n",
    "                  'rf__max_features' :[1,2]\n",
    "              }\n",
    "gs_rf = GridSearchCV(pipe_rf, param_grid=pipe_params_rf, verbose=1, cv=3)\n",
    "gs_rf.fit(X_train, y_train)\n",
    "print(gs_rf.best_score_)\n",
    "gs_rf.best_params_"
   ]
  },
  {
   "cell_type": "markdown",
   "metadata": {},
   "source": [
    "#### 3a) Transforming and fitting the Random Tree model with best parameters"
   ]
  },
  {
   "cell_type": "code",
   "execution_count": 84,
   "metadata": {},
   "outputs": [],
   "source": [
    "cvec = CountVectorizer(stop_words = sw1,tokenizer=textblob_tokenizer,\n",
    "                       max_df=0.99,max_features=300,min_df=5,ngram_range=(1, 1))"
   ]
  },
  {
   "cell_type": "code",
   "execution_count": 85,
   "metadata": {},
   "outputs": [],
   "source": [
    "cvec.fit(X_train)\n",
    "X_train_CV = cvec.transform(X_train)\n",
    "X_test_CV = cvec.transform(X_test)"
   ]
  },
  {
   "cell_type": "code",
   "execution_count": 86,
   "metadata": {},
   "outputs": [
    {
     "name": "stdout",
     "output_type": "stream",
     "text": [
      "accuracy score 0.9464788732394366\n"
     ]
    }
   ],
   "source": [
    "# Fitting in the Random Forest model with best params \n",
    "rf = RandomForestClassifier(max_depth=None,max_features=2, n_estimators = 200)\n",
    "rf.fit(X_train_CV,y_train)\n",
    "y_pred = rf.predict(X_test_CV)\n",
    "rf_c = accuracy_score(y_test,y_pred)\n",
    "print('accuracy score', rf_c)"
   ]
  },
  {
   "cell_type": "markdown",
   "metadata": {},
   "source": [
    "## 3b) Using Term Frequency-Inverse Document Frequency (TF-IDF) Vectorizer"
   ]
  },
  {
   "cell_type": "code",
   "execution_count": 87,
   "metadata": {},
   "outputs": [],
   "source": [
    "pipe_rf = Pipeline([(  'tvec', TfidfVectorizer(stop_words = sw1,tokenizer=textblob_tokenizer)  ),\n",
    "                    (  'rf', RandomForestClassifier(n_estimators=100)  )])"
   ]
  },
  {
   "cell_type": "code",
   "execution_count": 88,
   "metadata": {},
   "outputs": [
    {
     "name": "stdout",
     "output_type": "stream",
     "text": [
      "Fitting 3 folds for each of 288 candidates, totalling 864 fits\n"
     ]
    },
    {
     "name": "stderr",
     "output_type": "stream",
     "text": [
      "[Parallel(n_jobs=1)]: Using backend SequentialBackend with 1 concurrent workers.\n",
      "[Parallel(n_jobs=1)]: Done 864 out of 864 | elapsed: 100.7min finished\n"
     ]
    },
    {
     "name": "stdout",
     "output_type": "stream",
     "text": [
      "0.9285714285714286\n"
     ]
    },
    {
     "data": {
      "text/plain": [
       "{'rf__max_depth': None,\n",
       " 'rf__max_features': 2,\n",
       " 'rf__n_estimators': 200,\n",
       " 'tvec__max_df': 0.99,\n",
       " 'tvec__max_features': 600,\n",
       " 'tvec__min_df': 5,\n",
       " 'tvec__ngram_range': (1, 2)}"
      ]
     },
     "execution_count": 88,
     "metadata": {},
     "output_type": "execute_result"
    }
   ],
   "source": [
    "pipe_params_rf = {'tvec__max_features': [300,500,600],\n",
    "                  'tvec__min_df' : [3,5],\n",
    "                  'tvec__max_df' : [0.9,0.99],\n",
    "                  'tvec__ngram_range': [(1,1), (1,2)],\n",
    "                  'rf__n_estimators': [100, 200],\n",
    "                  'rf__max_depth': [None, 1, 2],\n",
    "                  'rf__max_features' :[1,2]\n",
    "              }\n",
    "gs_rf = GridSearchCV(pipe_rf, param_grid=pipe_params_rf, verbose=1, cv=3)\n",
    "gs_rf.fit(X_train, y_train)\n",
    "print(gs_rf.best_score_)\n",
    "gs_rf.best_params_"
   ]
  },
  {
   "cell_type": "markdown",
   "metadata": {},
   "source": [
    "#### 3b) Transforming and fitting the Random Tree model with best parameters"
   ]
  },
  {
   "cell_type": "code",
   "execution_count": 89,
   "metadata": {},
   "outputs": [],
   "source": [
    "tvec = TfidfVectorizer(stop_words = sw1,tokenizer=textblob_tokenizer,\n",
    "                       max_df = 0.99 ,max_features = 600 ,min_df= 5 ,ngram_range =(1,2))"
   ]
  },
  {
   "cell_type": "code",
   "execution_count": 90,
   "metadata": {},
   "outputs": [],
   "source": [
    "tvec.fit(X_train)\n",
    "X_train_TV = tvec.transform(X_train)\n",
    "X_test_TV = tvec.transform(X_test)"
   ]
  },
  {
   "cell_type": "code",
   "execution_count": 91,
   "metadata": {},
   "outputs": [
    {
     "name": "stdout",
     "output_type": "stream",
     "text": [
      "accuracy score 0.9323943661971831\n"
     ]
    }
   ],
   "source": [
    "# Fitting in the Multinomial model with best params \n",
    "rf = RandomForestClassifier(n_estimators=200, max_features=2, max_depth=None)\n",
    "rf.fit(X_train_TV,y_train)\n",
    "y_pred = rf.predict(X_test_TV)\n",
    "rf_t = accuracy_score(y_test,y_pred)\n",
    "print('accuracy score',rf_t)"
   ]
  },
  {
   "cell_type": "markdown",
   "metadata": {},
   "source": [
    "# Selecting the best model and do prediction "
   ]
  },
  {
   "cell_type": "code",
   "execution_count": 92,
   "metadata": {},
   "outputs": [
    {
     "name": "stdout",
     "output_type": "stream",
     "text": [
      "0.9577464788732394 0.9549295774647887 0.9042253521126761 0.8816901408450705 0.9464788732394366 0.9323943661971831\n"
     ]
    }
   ],
   "source": [
    "print(lr_c, lr_t, nb_c, nb_t, rf_c, rf_t)"
   ]
  },
  {
   "cell_type": "markdown",
   "metadata": {},
   "source": [
    "| Model                                       | Score  |\n",
    "|---------------------------------------------|--------|\n",
    "| Logistic Regression \\(Count Vectorizer\\)    | 0\\.958 |\n",
    "| Logistic Regression \\(TF\\-IDF\\)             | 0\\.955 |\n",
    "| Multinomial Classifier \\(Count Vectorizer\\) | 0\\.904 |\n",
    "| Multinomial Classifier \\(TF\\-IDF\\)          | 0\\.882 |\n",
    "| Random Forest \\(Count Vectorizer\\)          | 0\\.946 |\n",
    "| Random Forest \\(TF\\-IDF\\)                   | 0\\.932 |"
   ]
  },
  {
   "cell_type": "markdown",
   "metadata": {},
   "source": [
    "Model Selected : Logistic Regression with Count Vectorizer "
   ]
  },
  {
   "cell_type": "code",
   "execution_count": 109,
   "metadata": {},
   "outputs": [],
   "source": [
    "predictions = CV_lr.predict(X_test_CV)"
   ]
  },
  {
   "cell_type": "code",
   "execution_count": 110,
   "metadata": {},
   "outputs": [
    {
     "data": {
      "text/plain": [
       "0.950187969924812"
      ]
     },
     "execution_count": 110,
     "metadata": {},
     "output_type": "execute_result"
    }
   ],
   "source": [
    "lr.score(X_train_CV, y_train)"
   ]
  },
  {
   "cell_type": "code",
   "execution_count": 111,
   "metadata": {},
   "outputs": [
    {
     "data": {
      "text/plain": [
       "0.9408450704225352"
      ]
     },
     "execution_count": 111,
     "metadata": {},
     "output_type": "execute_result"
    }
   ],
   "source": [
    "lr.score(X_test_CV, y_test)"
   ]
  },
  {
   "cell_type": "code",
   "execution_count": 112,
   "metadata": {},
   "outputs": [
    {
     "data": {
      "text/plain": [
       "0.9577464788732394"
      ]
     },
     "execution_count": 112,
     "metadata": {},
     "output_type": "execute_result"
    }
   ],
   "source": [
    "accuracy_score(y_test,y_pred)"
   ]
  },
  {
   "cell_type": "markdown",
   "metadata": {},
   "source": [
    "#### Looking at the condusion matrix "
   ]
  },
  {
   "cell_type": "code",
   "execution_count": 101,
   "metadata": {},
   "outputs": [
    {
     "data": {
      "text/plain": [
       "array([[196,   8],\n",
       "       [  7, 144]])"
      ]
     },
     "execution_count": 101,
     "metadata": {},
     "output_type": "execute_result"
    }
   ],
   "source": [
    "confusion_matrix(y_test, predictions)"
   ]
  },
  {
   "cell_type": "code",
   "execution_count": 102,
   "metadata": {},
   "outputs": [],
   "source": [
    "tn, fp, fn, tp = confusion_matrix(y_test, predictions).ravel()"
   ]
  },
  {
   "cell_type": "code",
   "execution_count": 103,
   "metadata": {},
   "outputs": [
    {
     "name": "stdout",
     "output_type": "stream",
     "text": [
      "True Negatives: 196\n",
      "False Positives: 8\n",
      "False Negatives: 7\n",
      "True Positives: 144\n"
     ]
    }
   ],
   "source": [
    "print(\"True Negatives: %s\" % tn)\n",
    "print(\"False Positives: %s\" % fp)\n",
    "print(\"False Negatives: %s\" % fn)\n",
    "print(\"True Positives: %s\" % tp)"
   ]
  },
  {
   "cell_type": "code",
   "execution_count": 104,
   "metadata": {},
   "outputs": [
    {
     "name": "stdout",
     "output_type": "stream",
     "text": [
      "Specificity: 0.9608\n"
     ]
    }
   ],
   "source": [
    "spec = tn / (tn + fp)\n",
    "print(f'Specificity: {round(spec,4)}')"
   ]
  },
  {
   "cell_type": "code",
   "execution_count": 105,
   "metadata": {},
   "outputs": [
    {
     "name": "stdout",
     "output_type": "stream",
     "text": [
      "Sensitivity: 0.9536\n"
     ]
    }
   ],
   "source": [
    "sens = tp / (tp + fn)\n",
    "print(f'Sensitivity: {round(sens,4)}')"
   ]
  },
  {
   "cell_type": "code",
   "execution_count": 106,
   "metadata": {},
   "outputs": [
    {
     "data": {
      "text/html": [
       "<div>\n",
       "<style scoped>\n",
       "    .dataframe tbody tr th:only-of-type {\n",
       "        vertical-align: middle;\n",
       "    }\n",
       "\n",
       "    .dataframe tbody tr th {\n",
       "        vertical-align: top;\n",
       "    }\n",
       "\n",
       "    .dataframe thead th {\n",
       "        text-align: right;\n",
       "    }\n",
       "</style>\n",
       "<table border=\"1\" class=\"dataframe\">\n",
       "  <thead>\n",
       "    <tr style=\"text-align: right;\">\n",
       "      <th></th>\n",
       "      <th>true_values</th>\n",
       "      <th>pred_probs</th>\n",
       "    </tr>\n",
       "  </thead>\n",
       "  <tbody>\n",
       "    <tr>\n",
       "      <th>476</th>\n",
       "      <td>0</td>\n",
       "      <td>0.001110</td>\n",
       "    </tr>\n",
       "    <tr>\n",
       "      <th>619</th>\n",
       "      <td>0</td>\n",
       "      <td>0.057991</td>\n",
       "    </tr>\n",
       "    <tr>\n",
       "      <th>774</th>\n",
       "      <td>0</td>\n",
       "      <td>0.073372</td>\n",
       "    </tr>\n",
       "    <tr>\n",
       "      <th>134</th>\n",
       "      <td>0</td>\n",
       "      <td>0.145276</td>\n",
       "    </tr>\n",
       "    <tr>\n",
       "      <th>887</th>\n",
       "      <td>1</td>\n",
       "      <td>0.526174</td>\n",
       "    </tr>\n",
       "    <tr>\n",
       "      <th>...</th>\n",
       "      <td>...</td>\n",
       "      <td>...</td>\n",
       "    </tr>\n",
       "    <tr>\n",
       "      <th>241</th>\n",
       "      <td>0</td>\n",
       "      <td>0.852041</td>\n",
       "    </tr>\n",
       "    <tr>\n",
       "      <th>389</th>\n",
       "      <td>0</td>\n",
       "      <td>0.026424</td>\n",
       "    </tr>\n",
       "    <tr>\n",
       "      <th>232</th>\n",
       "      <td>0</td>\n",
       "      <td>0.000011</td>\n",
       "    </tr>\n",
       "    <tr>\n",
       "      <th>387</th>\n",
       "      <td>0</td>\n",
       "      <td>0.000206</td>\n",
       "    </tr>\n",
       "    <tr>\n",
       "      <th>379</th>\n",
       "      <td>0</td>\n",
       "      <td>0.001868</td>\n",
       "    </tr>\n",
       "  </tbody>\n",
       "</table>\n",
       "<p>355 rows × 2 columns</p>\n",
       "</div>"
      ],
      "text/plain": [
       "     true_values  pred_probs\n",
       "476            0    0.001110\n",
       "619            0    0.057991\n",
       "774            0    0.073372\n",
       "134            0    0.145276\n",
       "887            1    0.526174\n",
       "..           ...         ...\n",
       "241            0    0.852041\n",
       "389            0    0.026424\n",
       "232            0    0.000011\n",
       "387            0    0.000206\n",
       "379            0    0.001868\n",
       "\n",
       "[355 rows x 2 columns]"
      ]
     },
     "execution_count": 106,
     "metadata": {},
     "output_type": "execute_result"
    }
   ],
   "source": [
    "# Let's create a dataframe called pred_df that contains:\n",
    "# 1. The list of true values of our test set.\n",
    "# 2. The list of predicted probabilities based on our model.\n",
    "pred_proba = [i[1] for i in lr.predict_proba(X_test_CV)]\n",
    "\n",
    "pred_df = pd.DataFrame({'true_values': y_test,\n",
    "                        'pred_probs':pred_proba})\n",
    "pred_df"
   ]
  },
  {
   "cell_type": "code",
   "execution_count": 107,
   "metadata": {},
   "outputs": [
    {
     "data": {
      "image/png": "[encoded data removed]",
      "text/plain": [
       "<Figure size 720x504 with 1 Axes>"
      ]
     },
     "metadata": {
      "needs_background": "light"
     },
     "output_type": "display_data"
    }
   ],
   "source": [
    "# Create figure.\n",
    "plt.figure(figsize = (10,7))\n",
    "\n",
    "# Create two histograms of observations.\n",
    "plt.hist(pred_df[pred_df['true_values'] == 0]['pred_probs'],\n",
    "         bins=25,\n",
    "         color='b',\n",
    "         alpha = 0.6,\n",
    "         label='Outcome = 0')\n",
    "plt.hist(pred_df[pred_df['true_values'] == 1]['pred_probs'],\n",
    "         bins=25,\n",
    "         color='orange',\n",
    "         alpha = 0.6,\n",
    "         label='Outcome = 1')\n",
    "\n",
    "# Add vertical line at P(Outcome = 1) = 0.5.\n",
    "plt.vlines(x=0.5,\n",
    "           ymin = 0,\n",
    "           ymax = 65,\n",
    "           color='r',\n",
    "           linestyle = '--')\n",
    "\n",
    "# Label axes.\n",
    "plt.title('Distribution of P(Outcome = 1)', fontsize=22)\n",
    "plt.ylabel('Frequency', fontsize=18)\n",
    "plt.xlabel('Predicted Probability that Outcome = 1', fontsize=18)\n",
    "\n",
    "# Create legend.\n",
    "plt.legend(fontsize=20);"
   ]
  },
  {
   "cell_type": "markdown",
   "metadata": {},
   "source": [
    "# Investigating the False Negatively Classified tokens"
   ]
  },
  {
   "cell_type": "code",
   "execution_count": 113,
   "metadata": {},
   "outputs": [
    {
     "data": {
      "text/html": [
       "<div>\n",
       "<style scoped>\n",
       "    .dataframe tbody tr th:only-of-type {\n",
       "        vertical-align: middle;\n",
       "    }\n",
       "\n",
       "    .dataframe tbody tr th {\n",
       "        vertical-align: top;\n",
       "    }\n",
       "\n",
       "    .dataframe thead th {\n",
       "        text-align: right;\n",
       "    }\n",
       "</style>\n",
       "<table border=\"1\" class=\"dataframe\">\n",
       "  <thead>\n",
       "    <tr style=\"text-align: right;\">\n",
       "      <th></th>\n",
       "      <th>y_test</th>\n",
       "      <th>y_pred</th>\n",
       "      <th>X_test</th>\n",
       "    </tr>\n",
       "  </thead>\n",
       "  <tbody>\n",
       "    <tr>\n",
       "      <th>476</th>\n",
       "      <td>0</td>\n",
       "      <td>0</td>\n",
       "      <td>[i, work, for, a, university, chair, that, doe...</td>\n",
       "    </tr>\n",
       "    <tr>\n",
       "      <th>619</th>\n",
       "      <td>0</td>\n",
       "      <td>0</td>\n",
       "      <td>[im, pretty, frustrated, over, here, started, ...</td>\n",
       "    </tr>\n",
       "    <tr>\n",
       "      <th>774</th>\n",
       "      <td>0</td>\n",
       "      <td>0</td>\n",
       "      <td>[so, last, week, one, of, my, friend, friend, ...</td>\n",
       "    </tr>\n",
       "    <tr>\n",
       "      <th>134</th>\n",
       "      <td>0</td>\n",
       "      <td>0</td>\n",
       "      <td>[my, hearing, suck, always, ha, if, there, 's,...</td>\n",
       "    </tr>\n",
       "    <tr>\n",
       "      <th>887</th>\n",
       "      <td>1</td>\n",
       "      <td>1</td>\n",
       "      <td>[today, wa, my, 22m, girlfriend, ’, s, 29f, bi...</td>\n",
       "    </tr>\n",
       "  </tbody>\n",
       "</table>\n",
       "</div>"
      ],
      "text/plain": [
       "     y_test  y_pred                                             X_test\n",
       "476       0       0  [i, work, for, a, university, chair, that, doe...\n",
       "619       0       0  [im, pretty, frustrated, over, here, started, ...\n",
       "774       0       0  [so, last, week, one, of, my, friend, friend, ...\n",
       "134       0       0  [my, hearing, suck, always, ha, if, there, 's,...\n",
       "887       1       1  [today, wa, my, 22m, girlfriend, ’, s, 29f, bi..."
      ]
     },
     "execution_count": 113,
     "metadata": {},
     "output_type": "execute_result"
    }
   ],
   "source": [
    "# Making a dataframe to display y_test, y_predict and tokenized X_test\n",
    "df_y = pd.DataFrame(y_test)\n",
    "df_y['y_pred'] = y_pred\n",
    "df_y['X_test'] = X_test\n",
    "df_y.rename(columns = {'subreddit':'y_test','y_pred':'y_pred','X_test':'X_test'},inplace=True)\n",
    "df_y['X_test'] = df_y['X_test'].apply(textblob_tokenizer)\n",
    "df_y.head()"
   ]
  },
  {
   "cell_type": "code",
   "execution_count": 114,
   "metadata": {},
   "outputs": [
    {
     "data": {
      "text/html": [
       "<div>\n",
       "<style scoped>\n",
       "    .dataframe tbody tr th:only-of-type {\n",
       "        vertical-align: middle;\n",
       "    }\n",
       "\n",
       "    .dataframe tbody tr th {\n",
       "        vertical-align: top;\n",
       "    }\n",
       "\n",
       "    .dataframe thead th {\n",
       "        text-align: right;\n",
       "    }\n",
       "</style>\n",
       "<table border=\"1\" class=\"dataframe\">\n",
       "  <thead>\n",
       "    <tr style=\"text-align: right;\">\n",
       "      <th></th>\n",
       "      <th>y_test</th>\n",
       "      <th>y_pred</th>\n",
       "      <th>X_test</th>\n",
       "    </tr>\n",
       "  </thead>\n",
       "  <tbody>\n",
       "    <tr>\n",
       "      <th>829</th>\n",
       "      <td>1</td>\n",
       "      <td>0</td>\n",
       "      <td>[this, happened, today, throwaway, account, fo...</td>\n",
       "    </tr>\n",
       "    <tr>\n",
       "      <th>1285</th>\n",
       "      <td>1</td>\n",
       "      <td>0</td>\n",
       "      <td>[this, happened, to, me, on, monday, but, i, w...</td>\n",
       "    </tr>\n",
       "    <tr>\n",
       "      <th>935</th>\n",
       "      <td>1</td>\n",
       "      <td>0</td>\n",
       "      <td>[today, i, posted, on, a, local, facebook, com...</td>\n",
       "    </tr>\n",
       "    <tr>\n",
       "      <th>861</th>\n",
       "      <td>1</td>\n",
       "      <td>0</td>\n",
       "      <td>[after, calming, down, and, laughing, about, t...</td>\n",
       "    </tr>\n",
       "    <tr>\n",
       "      <th>1333</th>\n",
       "      <td>1</td>\n",
       "      <td>0</td>\n",
       "      <td>[last, night, i, wa, messing, around, online, ...</td>\n",
       "    </tr>\n",
       "    <tr>\n",
       "      <th>815</th>\n",
       "      <td>1</td>\n",
       "      <td>0</td>\n",
       "      <td>[welcome, to, the, nomination, thread, for, th...</td>\n",
       "    </tr>\n",
       "    <tr>\n",
       "      <th>951</th>\n",
       "      <td>1</td>\n",
       "      <td>0</td>\n",
       "      <td>[so, some, background, i, am, a, married, to, ...</td>\n",
       "    </tr>\n",
       "  </tbody>\n",
       "</table>\n",
       "</div>"
      ],
      "text/plain": [
       "      y_test  y_pred                                             X_test\n",
       "829        1       0  [this, happened, today, throwaway, account, fo...\n",
       "1285       1       0  [this, happened, to, me, on, monday, but, i, w...\n",
       "935        1       0  [today, i, posted, on, a, local, facebook, com...\n",
       "861        1       0  [after, calming, down, and, laughing, about, t...\n",
       "1333       1       0  [last, night, i, wa, messing, around, online, ...\n",
       "815        1       0  [welcome, to, the, nomination, thread, for, th...\n",
       "951        1       0  [so, some, background, i, am, a, married, to, ..."
      ]
     },
     "execution_count": 114,
     "metadata": {},
     "output_type": "execute_result"
    }
   ],
   "source": [
    "# Selecting just the false negative classified tokens into a dataframe\n",
    "df_fn = df_y[(df_y['y_test']== 1) & (df_y['y_pred']== 0)]\n",
    "df_fn"
   ]
  },
  {
   "cell_type": "code",
   "execution_count": 115,
   "metadata": {},
   "outputs": [
    {
     "data": {
      "text/plain": [
       "{'1',\n",
       " 'asked',\n",
       " 'asshole',\n",
       " 'class',\n",
       " 'college',\n",
       " 'comment',\n",
       " 'doe',\n",
       " 'don',\n",
       " 'far',\n",
       " 'guess',\n",
       " 'joke',\n",
       " 'let',\n",
       " 'little',\n",
       " 'make',\n",
       " 'moment',\n",
       " 'month',\n",
       " \"n't\",\n",
       " 'nice',\n",
       " 'parent',\n",
       " 'person',\n",
       " 'response',\n",
       " 'room',\n",
       " 'said',\n",
       " 'saying',\n",
       " 'sister',\n",
       " 'texted',\n",
       " 'thought',\n",
       " 'told',\n",
       " 'try',\n",
       " 'understand',\n",
       " 'walk',\n",
       " 'want',\n",
       " 'week',\n",
       " 'woman',\n",
       " 'work',\n",
       " 'year',\n",
       " '’',\n",
       " '“'}"
      ]
     },
     "execution_count": 115,
     "metadata": {},
     "output_type": "execute_result"
    }
   ],
   "source": [
    "# Create a list for all the coefficients that help to classify post into AITA (subreddit =0)\n",
    "wrong_token =[]\n",
    "df_AITAcoef = df_coef[df_coef[0]<0]\n",
    "AITA_token = list(df_AITAcoef.index.values)\n",
    "# Locate the token that causes false negative classification\n",
    "for i in df_fn['X_test']:\n",
    "    for j in i:\n",
    "        if j in AITA_token:\n",
    "            wrong_token.append(j)\n",
    "wrong_token = set(wrong_token)\n",
    "wrong_token"
   ]
  },
  {
   "cell_type": "code",
   "execution_count": null,
   "metadata": {},
   "outputs": [],
   "source": []
  }
 ],
 "metadata": {
  "kernelspec": {
   "display_name": "Python 3",
   "language": "python",
   "name": "python3"
  },
  "language_info": {
   "codemirror_mode": {
    "name": "ipython",
    "version": 3
   },
   "file_extension": ".py",
   "mimetype": "text/x-python",
   "name": "python",
   "nbconvert_exporter": "python",
   "pygments_lexer": "ipython3",
   "version": "3.7.4"
  }
 },
 "nbformat": 4,
 "nbformat_minor": 2
}
